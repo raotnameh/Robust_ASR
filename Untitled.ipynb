{
 "cells": [
  {
   "cell_type": "code",
   "execution_count": 67,
   "id": "green-security",
   "metadata": {},
   "outputs": [],
   "source": [
    "import torch"
   ]
  },
  {
   "cell_type": "code",
   "execution_count": 68,
   "id": "mental-dinner",
   "metadata": {},
   "outputs": [],
   "source": [
    "new = torch.load(\"enus_40/dummy/models/ckpt_1_10.pth\", map_location=\"cpu\")['models']"
   ]
  },
  {
   "cell_type": "code",
   "execution_count": 69,
   "id": "social-classroom",
   "metadata": {},
   "outputs": [],
   "source": [
    "old = torch.load(\"enus_40/asr_libri_M_F_full/models/ckpt_final.pth\", map_location=\"cpu\")['models']"
   ]
  },
  {
   "cell_type": "code",
   "execution_count": 70,
   "id": "industrial-wagner",
   "metadata": {},
   "outputs": [],
   "source": [
    "dummy = []"
   ]
  },
  {
   "cell_type": "code",
   "execution_count": 73,
   "id": "failing-gardening",
   "metadata": {},
   "outputs": [],
   "source": [
    "dummy = []\n",
    "for i in old:\n",
    "    for k in old[i][0].state_dict():\n",
    "        dummy.append([k, old[i][0].state_dict()[k]])\n",
    "    h+=1"
   ]
  },
  {
   "cell_type": "code",
   "execution_count": 74,
   "id": "lined-dollar",
   "metadata": {},
   "outputs": [
    {
     "data": {
      "text/plain": [
       "473"
      ]
     },
     "execution_count": 74,
     "metadata": {},
     "output_type": "execute_result"
    }
   ],
   "source": [
    "len(dummy)"
   ]
  },
  {
   "cell_type": "code",
   "execution_count": 75,
   "id": "extra-leadership",
   "metadata": {
    "scrolled": true
   },
   "outputs": [
    {
     "data": {
      "text/plain": [
       "['layers.0.layers.0.weight',\n",
       " tensor([[[-0.0050,  0.0314, -0.0387,  ..., -0.0017, -0.0347, -0.0067],\n",
       "          [ 0.0344, -0.0328, -0.0208,  ...,  0.0955,  0.0097,  0.0750],\n",
       "          [ 0.0090, -0.0078, -0.0902,  ...,  0.0508, -0.0075, -0.0431],\n",
       "          ...,\n",
       "          [ 0.1240,  0.0555,  0.0033,  ...,  0.0827,  0.0446,  0.0089],\n",
       "          [ 0.1951,  0.0833,  0.0265,  ...,  0.0360,  0.1299,  0.0786],\n",
       "          [ 0.1422,  0.1818, -0.0543,  ...,  0.0048,  0.1584, -0.0135]],\n",
       " \n",
       "         [[ 0.0141,  0.0061, -0.0047,  ...,  0.0449,  0.0489,  0.0438],\n",
       "          [ 0.0142,  0.0390,  0.0281,  ...,  0.0089,  0.0319,  0.0818],\n",
       "          [ 0.0605,  0.1315,  0.2312,  ..., -0.0204, -0.0495, -0.0482],\n",
       "          ...,\n",
       "          [-0.0648, -0.0210, -0.0025,  ...,  0.0113,  0.0367,  0.0206],\n",
       "          [ 0.0144,  0.0075, -0.0069,  ...,  0.0341,  0.0391,  0.0736],\n",
       "          [-0.0218,  0.0356, -0.0690,  ..., -0.0972,  0.0138, -0.0093]],\n",
       " \n",
       "         [[ 0.0675, -0.0015,  0.0546,  ...,  0.0029,  0.0834, -0.0091],\n",
       "          [ 0.0523,  0.0103,  0.0425,  ...,  0.0118, -0.0865, -0.0107],\n",
       "          [-0.0123, -0.0171,  0.0383,  ...,  0.0163,  0.0566,  0.0051],\n",
       "          ...,\n",
       "          [ 0.0590, -0.0043, -0.0124,  ...,  0.1076, -0.0309,  0.0976],\n",
       "          [ 0.0113, -0.0325,  0.0224,  ...,  0.0860,  0.0773, -0.0548],\n",
       "          [-0.0980, -0.0574,  0.0093,  ...,  0.1102, -0.0655,  0.0008]],\n",
       " \n",
       "         ...,\n",
       " \n",
       "         [[-0.0353,  0.0355,  0.0432,  ...,  0.0412, -0.0628, -0.0424],\n",
       "          [-0.0151,  0.0555,  0.0070,  ...,  0.0558,  0.1071,  0.0316],\n",
       "          [ 0.2532,  0.1610,  0.0028,  ...,  0.0361,  0.1136,  0.2462],\n",
       "          ...,\n",
       "          [ 0.0774,  0.0441,  0.0586,  ...,  0.0987, -0.0260,  0.0241],\n",
       "          [ 0.0561,  0.0680,  0.0470,  ...,  0.0363,  0.0302,  0.1183],\n",
       "          [ 0.0631,  0.1108,  0.0576,  ...,  0.1085,  0.0605,  0.1101]],\n",
       " \n",
       "         [[-0.0551, -0.0315,  0.0042,  ..., -0.0159,  0.0164, -0.0095],\n",
       "          [-0.0606, -0.1596, -0.0513,  ...,  0.1221,  0.0747,  0.1786],\n",
       "          [ 0.0819,  0.0578, -0.0039,  ...,  0.0694,  0.1071,  0.0693],\n",
       "          ...,\n",
       "          [-0.1159, -0.1430, -0.0787,  ..., -0.0896, -0.0394,  0.0099],\n",
       "          [-0.1912, -0.1708, -0.0641,  ..., -0.1379,  0.0297,  0.0017],\n",
       "          [-0.2294, -0.2173, -0.1768,  ...,  0.0196,  0.0073,  0.0564]],\n",
       " \n",
       "         [[ 0.0202, -0.0642, -0.0373,  ...,  0.0457,  0.0084,  0.0480],\n",
       "          [ 0.0622,  0.0484, -0.0023,  ...,  0.0214, -0.0025,  0.0140],\n",
       "          [-0.2698, -0.2009, -0.0449,  ...,  0.1100,  0.0408,  0.0304],\n",
       "          ...,\n",
       "          [ 0.0404, -0.0139, -0.1220,  ..., -0.1062, -0.1217,  0.0141],\n",
       "          [ 0.0840,  0.0029, -0.0830,  ..., -0.1394, -0.1221,  0.0539],\n",
       "          [ 0.0990,  0.1395, -0.0943,  ..., -0.0626, -0.1090, -0.0127]]])]"
      ]
     },
     "execution_count": 75,
     "metadata": {},
     "output_type": "execute_result"
    }
   ],
   "source": [
    "dummy[0]"
   ]
  },
  {
   "cell_type": "code",
   "execution_count": 78,
   "id": "bottom-investing",
   "metadata": {
    "scrolled": true
   },
   "outputs": [
    {
     "data": {
      "text/plain": [
       "tensor([[[-0.0050,  0.0314, -0.0387,  ..., -0.0017, -0.0347, -0.0067],\n",
       "         [ 0.0344, -0.0328, -0.0208,  ...,  0.0955,  0.0097,  0.0750],\n",
       "         [ 0.0090, -0.0078, -0.0902,  ...,  0.0508, -0.0075, -0.0431],\n",
       "         ...,\n",
       "         [ 0.1240,  0.0555,  0.0033,  ...,  0.0827,  0.0446,  0.0089],\n",
       "         [ 0.1951,  0.0833,  0.0265,  ...,  0.0360,  0.1299,  0.0786],\n",
       "         [ 0.1422,  0.1818, -0.0543,  ...,  0.0048,  0.1584, -0.0135]],\n",
       "\n",
       "        [[ 0.0141,  0.0061, -0.0047,  ...,  0.0449,  0.0489,  0.0438],\n",
       "         [ 0.0142,  0.0390,  0.0281,  ...,  0.0089,  0.0319,  0.0818],\n",
       "         [ 0.0605,  0.1315,  0.2312,  ..., -0.0204, -0.0495, -0.0482],\n",
       "         ...,\n",
       "         [-0.0648, -0.0210, -0.0025,  ...,  0.0113,  0.0367,  0.0206],\n",
       "         [ 0.0144,  0.0075, -0.0069,  ...,  0.0341,  0.0391,  0.0736],\n",
       "         [-0.0218,  0.0356, -0.0690,  ..., -0.0972,  0.0138, -0.0093]],\n",
       "\n",
       "        [[ 0.0675, -0.0015,  0.0546,  ...,  0.0029,  0.0834, -0.0091],\n",
       "         [ 0.0523,  0.0103,  0.0425,  ...,  0.0118, -0.0865, -0.0107],\n",
       "         [-0.0123, -0.0171,  0.0383,  ...,  0.0163,  0.0566,  0.0051],\n",
       "         ...,\n",
       "         [ 0.0590, -0.0043, -0.0124,  ...,  0.1076, -0.0309,  0.0976],\n",
       "         [ 0.0113, -0.0325,  0.0224,  ...,  0.0860,  0.0773, -0.0548],\n",
       "         [-0.0980, -0.0574,  0.0093,  ...,  0.1102, -0.0655,  0.0008]],\n",
       "\n",
       "        ...,\n",
       "\n",
       "        [[-0.0353,  0.0355,  0.0432,  ...,  0.0412, -0.0628, -0.0424],\n",
       "         [-0.0151,  0.0555,  0.0070,  ...,  0.0558,  0.1071,  0.0316],\n",
       "         [ 0.2532,  0.1610,  0.0028,  ...,  0.0361,  0.1136,  0.2462],\n",
       "         ...,\n",
       "         [ 0.0774,  0.0441,  0.0586,  ...,  0.0987, -0.0260,  0.0241],\n",
       "         [ 0.0561,  0.0680,  0.0470,  ...,  0.0363,  0.0302,  0.1183],\n",
       "         [ 0.0631,  0.1108,  0.0576,  ...,  0.1085,  0.0605,  0.1101]],\n",
       "\n",
       "        [[-0.0551, -0.0315,  0.0042,  ..., -0.0159,  0.0164, -0.0095],\n",
       "         [-0.0606, -0.1596, -0.0513,  ...,  0.1221,  0.0747,  0.1786],\n",
       "         [ 0.0819,  0.0578, -0.0039,  ...,  0.0694,  0.1071,  0.0693],\n",
       "         ...,\n",
       "         [-0.1159, -0.1430, -0.0787,  ..., -0.0896, -0.0394,  0.0099],\n",
       "         [-0.1912, -0.1708, -0.0641,  ..., -0.1379,  0.0297,  0.0017],\n",
       "         [-0.2294, -0.2173, -0.1768,  ...,  0.0196,  0.0073,  0.0564]],\n",
       "\n",
       "        [[ 0.0202, -0.0642, -0.0373,  ...,  0.0457,  0.0084,  0.0480],\n",
       "         [ 0.0622,  0.0484, -0.0023,  ...,  0.0214, -0.0025,  0.0140],\n",
       "         [-0.2698, -0.2009, -0.0449,  ...,  0.1100,  0.0408,  0.0304],\n",
       "         ...,\n",
       "         [ 0.0404, -0.0139, -0.1220,  ..., -0.1062, -0.1217,  0.0141],\n",
       "         [ 0.0840,  0.0029, -0.0830,  ..., -0.1394, -0.1221,  0.0539],\n",
       "         [ 0.0990,  0.1395, -0.0943,  ..., -0.0626, -0.1090, -0.0127]]])"
      ]
     },
     "execution_count": 78,
     "metadata": {},
     "output_type": "execute_result"
    }
   ],
   "source": [
    "new['preprocessing'][0].state_dict()['layers.0.layers.0.conv_encoder.weight']"
   ]
  },
  {
   "cell_type": "code",
   "execution_count": 99,
   "id": "primary-access",
   "metadata": {},
   "outputs": [
    {
     "name": "stdout",
     "output_type": "stream",
     "text": [
      "layers.0.layers.0.conv_pre.weight\n",
      "layers.0.layers.1.batchnorm_pre.weight\n",
      "layers.0.layers.1.batchnorm_pre.bias\n",
      "layers.0.layers.1.batchnorm_pre.running_mean\n",
      "layers.0.layers.1.batchnorm_pre.running_var\n",
      "layers.0.layers.1.batchnorm_pre.num_batches_tracked\n",
      "linear.weight\n",
      "linear.bias\n"
     ]
    }
   ],
   "source": [
    "for i in new['discriminator'][0].state_dict():\n",
    "    print(i)"
   ]
  },
  {
   "cell_type": "code",
   "execution_count": 77,
   "id": "fancy-windows",
   "metadata": {},
   "outputs": [
    {
     "name": "stdout",
     "output_type": "stream",
     "text": [
      "preprocessing\n",
      "\n",
      "layers.0.layers.0.conv_encoder.weight\n"
     ]
    }
   ],
   "source": [
    "h = 0\n",
    "for i in new:\n",
    "    print(i)\n",
    "    print()\n",
    "    for k in new[i][0].state_dict():\n",
    "        print(k)\n",
    "        break\n",
    "        if new[i][0].state_dict()[k].shape == dummy[h][1].shape: \n",
    "            new[i][0].state_dict()[k].copy_(dummy[h][1])\n",
    "#                 print(dummy[h][0],k)\n",
    "        else: print('passs')\n",
    "        h+=1\n",
    "    break"
   ]
  },
  {
   "cell_type": "code",
   "execution_count": 79,
   "id": "median-details",
   "metadata": {},
   "outputs": [],
   "source": [
    "save = torch.load(\"enus_40/dummy/models/ckpt_1_10.pth\", map_location=\"cpu\")"
   ]
  },
  {
   "cell_type": "code",
   "execution_count": 80,
   "id": "secure-collar",
   "metadata": {},
   "outputs": [
    {
     "data": {
      "text/plain": [
       "dict_keys(['models', 'start_epoch', 'best_wer', 'best_cer', 'poor_cer_list', 'start_iter', 'accent_dict', 'version', 'train.log', 'audio_conf', 'labels'])"
      ]
     },
     "execution_count": 80,
     "metadata": {},
     "output_type": "execute_result"
    }
   ],
   "source": [
    "save.keys()"
   ]
  },
  {
   "cell_type": "code",
   "execution_count": 81,
   "id": "vocal-nutrition",
   "metadata": {},
   "outputs": [],
   "source": [
    "save['models'] = new"
   ]
  },
  {
   "cell_type": "code",
   "execution_count": 82,
   "id": "usual-senate",
   "metadata": {},
   "outputs": [],
   "source": [
    "torch.save(save,'enus_40/dummy/models/new.pth')"
   ]
  },
  {
   "cell_type": "code",
   "execution_count": 84,
   "id": "acute-interim",
   "metadata": {},
   "outputs": [],
   "source": [
    "m = []\n",
    "for i in dummy:\n",
    "    m.append(i[0])\n",
    "#     print(i[0])"
   ]
  },
  {
   "cell_type": "code",
   "execution_count": 85,
   "id": "enclosed-evans",
   "metadata": {},
   "outputs": [
    {
     "data": {
      "text/plain": [
       "473"
      ]
     },
     "execution_count": 85,
     "metadata": {},
     "output_type": "execute_result"
    }
   ],
   "source": [
    "len(m)"
   ]
  },
  {
   "cell_type": "code",
   "execution_count": 88,
   "id": "available-exploration",
   "metadata": {},
   "outputs": [
    {
     "data": {
      "text/plain": [
       "{'layers.0.conv.0.bias',\n",
       " 'layers.0.conv.0.weight',\n",
       " 'layers.0.conv.1.bias',\n",
       " 'layers.0.conv.1.num_batches_tracked',\n",
       " 'layers.0.conv.1.running_mean',\n",
       " 'layers.0.conv.1.running_var',\n",
       " 'layers.0.conv.1.weight',\n",
       " 'layers.0.layers.0.0.bias',\n",
       " 'layers.0.layers.0.0.weight',\n",
       " 'layers.0.layers.0.1.bias',\n",
       " 'layers.0.layers.0.1.num_batches_tracked',\n",
       " 'layers.0.layers.0.1.running_mean',\n",
       " 'layers.0.layers.0.1.running_var',\n",
       " 'layers.0.layers.0.1.weight',\n",
       " 'layers.0.layers.0.weight',\n",
       " 'layers.0.layers.1.0.bias',\n",
       " 'layers.0.layers.1.0.num_batches_tracked',\n",
       " 'layers.0.layers.1.0.running_mean',\n",
       " 'layers.0.layers.1.0.running_var',\n",
       " 'layers.0.layers.1.0.weight',\n",
       " 'layers.0.layers.1.1.bias',\n",
       " 'layers.0.layers.1.1.num_batches_tracked',\n",
       " 'layers.0.layers.1.1.running_mean',\n",
       " 'layers.0.layers.1.1.running_var',\n",
       " 'layers.0.layers.1.1.weight',\n",
       " 'layers.0.layers.2.0.bias',\n",
       " 'layers.0.layers.2.0.weight',\n",
       " 'layers.0.layers.2.1.bias',\n",
       " 'layers.0.layers.2.1.num_batches_tracked',\n",
       " 'layers.0.layers.2.1.running_mean',\n",
       " 'layers.0.layers.2.1.running_var',\n",
       " 'layers.0.layers.2.1.weight',\n",
       " 'layers.0.layers.3.0.bias',\n",
       " 'layers.0.layers.3.0.weight',\n",
       " 'layers.0.layers.3.1.bias',\n",
       " 'layers.0.layers.3.1.num_batches_tracked',\n",
       " 'layers.0.layers.3.1.running_mean',\n",
       " 'layers.0.layers.3.1.running_var',\n",
       " 'layers.0.layers.3.1.weight',\n",
       " 'layers.0.layers.4.0.bias',\n",
       " 'layers.0.layers.4.0.weight',\n",
       " 'layers.0.layers.4.1.bias',\n",
       " 'layers.0.layers.4.1.num_batches_tracked',\n",
       " 'layers.0.layers.4.1.running_mean',\n",
       " 'layers.0.layers.4.1.running_var',\n",
       " 'layers.0.layers.4.1.weight',\n",
       " 'layers.1.conv.0.bias',\n",
       " 'layers.1.conv.0.weight',\n",
       " 'layers.1.conv.1.bias',\n",
       " 'layers.1.conv.1.num_batches_tracked',\n",
       " 'layers.1.conv.1.running_mean',\n",
       " 'layers.1.conv.1.running_var',\n",
       " 'layers.1.conv.1.weight',\n",
       " 'layers.1.layers.0.0.bias',\n",
       " 'layers.1.layers.0.0.weight',\n",
       " 'layers.1.layers.0.1.bias',\n",
       " 'layers.1.layers.0.1.num_batches_tracked',\n",
       " 'layers.1.layers.0.1.running_mean',\n",
       " 'layers.1.layers.0.1.running_var',\n",
       " 'layers.1.layers.0.1.weight',\n",
       " 'layers.1.layers.0.weight',\n",
       " 'layers.1.layers.1.0.bias',\n",
       " 'layers.1.layers.1.0.num_batches_tracked',\n",
       " 'layers.1.layers.1.0.running_mean',\n",
       " 'layers.1.layers.1.0.running_var',\n",
       " 'layers.1.layers.1.0.weight',\n",
       " 'layers.1.layers.1.1.bias',\n",
       " 'layers.1.layers.1.1.num_batches_tracked',\n",
       " 'layers.1.layers.1.1.running_mean',\n",
       " 'layers.1.layers.1.1.running_var',\n",
       " 'layers.1.layers.1.1.weight',\n",
       " 'layers.1.layers.2.0.bias',\n",
       " 'layers.1.layers.2.0.weight',\n",
       " 'layers.1.layers.2.1.bias',\n",
       " 'layers.1.layers.2.1.num_batches_tracked',\n",
       " 'layers.1.layers.2.1.running_mean',\n",
       " 'layers.1.layers.2.1.running_var',\n",
       " 'layers.1.layers.2.1.weight',\n",
       " 'layers.1.layers.3.0.bias',\n",
       " 'layers.1.layers.3.0.weight',\n",
       " 'layers.1.layers.3.1.bias',\n",
       " 'layers.1.layers.3.1.num_batches_tracked',\n",
       " 'layers.1.layers.3.1.running_mean',\n",
       " 'layers.1.layers.3.1.running_var',\n",
       " 'layers.1.layers.3.1.weight',\n",
       " 'layers.1.layers.4.0.bias',\n",
       " 'layers.1.layers.4.0.weight',\n",
       " 'layers.1.layers.4.1.bias',\n",
       " 'layers.1.layers.4.1.num_batches_tracked',\n",
       " 'layers.1.layers.4.1.running_mean',\n",
       " 'layers.1.layers.4.1.running_var',\n",
       " 'layers.1.layers.4.1.weight',\n",
       " 'layers.2.conv.0.weight',\n",
       " 'layers.2.conv.1.bias',\n",
       " 'layers.2.conv.1.num_batches_tracked',\n",
       " 'layers.2.conv.1.running_mean',\n",
       " 'layers.2.conv.1.running_var',\n",
       " 'layers.2.conv.1.weight',\n",
       " 'layers.2.layers.0.0.weight',\n",
       " 'layers.2.layers.0.1.bias',\n",
       " 'layers.2.layers.0.1.num_batches_tracked',\n",
       " 'layers.2.layers.0.1.running_mean',\n",
       " 'layers.2.layers.0.1.running_var',\n",
       " 'layers.2.layers.0.1.weight',\n",
       " 'layers.2.layers.0.bias',\n",
       " 'layers.2.layers.0.weight',\n",
       " 'layers.2.layers.1.0.weight',\n",
       " 'layers.2.layers.1.1.bias',\n",
       " 'layers.2.layers.1.1.num_batches_tracked',\n",
       " 'layers.2.layers.1.1.running_mean',\n",
       " 'layers.2.layers.1.1.running_var',\n",
       " 'layers.2.layers.1.1.weight',\n",
       " 'layers.2.layers.2.0.weight',\n",
       " 'layers.2.layers.2.1.bias',\n",
       " 'layers.2.layers.2.1.num_batches_tracked',\n",
       " 'layers.2.layers.2.1.running_mean',\n",
       " 'layers.2.layers.2.1.running_var',\n",
       " 'layers.2.layers.2.1.weight',\n",
       " 'layers.2.layers.3.0.weight',\n",
       " 'layers.2.layers.3.1.bias',\n",
       " 'layers.2.layers.3.1.num_batches_tracked',\n",
       " 'layers.2.layers.3.1.running_mean',\n",
       " 'layers.2.layers.3.1.running_var',\n",
       " 'layers.2.layers.3.1.weight',\n",
       " 'layers.2.layers.4.0.weight',\n",
       " 'layers.2.layers.4.1.bias',\n",
       " 'layers.2.layers.4.1.num_batches_tracked',\n",
       " 'layers.2.layers.4.1.running_mean',\n",
       " 'layers.2.layers.4.1.running_var',\n",
       " 'layers.2.layers.4.1.weight',\n",
       " 'layers.3.conv.0.weight',\n",
       " 'layers.3.conv.1.bias',\n",
       " 'layers.3.conv.1.num_batches_tracked',\n",
       " 'layers.3.conv.1.running_mean',\n",
       " 'layers.3.conv.1.running_var',\n",
       " 'layers.3.conv.1.weight',\n",
       " 'layers.3.layers.0.0.weight',\n",
       " 'layers.3.layers.0.1.bias',\n",
       " 'layers.3.layers.0.1.num_batches_tracked',\n",
       " 'layers.3.layers.0.1.running_mean',\n",
       " 'layers.3.layers.0.1.running_var',\n",
       " 'layers.3.layers.0.1.weight',\n",
       " 'layers.3.layers.1.0.weight',\n",
       " 'layers.3.layers.1.1.bias',\n",
       " 'layers.3.layers.1.1.num_batches_tracked',\n",
       " 'layers.3.layers.1.1.running_mean',\n",
       " 'layers.3.layers.1.1.running_var',\n",
       " 'layers.3.layers.1.1.weight',\n",
       " 'layers.3.layers.2.0.weight',\n",
       " 'layers.3.layers.2.1.bias',\n",
       " 'layers.3.layers.2.1.num_batches_tracked',\n",
       " 'layers.3.layers.2.1.running_mean',\n",
       " 'layers.3.layers.2.1.running_var',\n",
       " 'layers.3.layers.2.1.weight',\n",
       " 'layers.3.layers.3.0.weight',\n",
       " 'layers.3.layers.3.1.bias',\n",
       " 'layers.3.layers.3.1.num_batches_tracked',\n",
       " 'layers.3.layers.3.1.running_mean',\n",
       " 'layers.3.layers.3.1.running_var',\n",
       " 'layers.3.layers.3.1.weight',\n",
       " 'layers.3.layers.4.0.weight',\n",
       " 'layers.3.layers.4.1.bias',\n",
       " 'layers.3.layers.4.1.num_batches_tracked',\n",
       " 'layers.3.layers.4.1.running_mean',\n",
       " 'layers.3.layers.4.1.running_var',\n",
       " 'layers.3.layers.4.1.weight',\n",
       " 'layers.4.conv.0.weight',\n",
       " 'layers.4.conv.1.bias',\n",
       " 'layers.4.conv.1.num_batches_tracked',\n",
       " 'layers.4.conv.1.running_mean',\n",
       " 'layers.4.conv.1.running_var',\n",
       " 'layers.4.conv.1.weight',\n",
       " 'layers.4.layers.0.0.weight',\n",
       " 'layers.4.layers.0.1.bias',\n",
       " 'layers.4.layers.0.1.num_batches_tracked',\n",
       " 'layers.4.layers.0.1.running_mean',\n",
       " 'layers.4.layers.0.1.running_var',\n",
       " 'layers.4.layers.0.1.weight',\n",
       " 'layers.4.layers.1.0.weight',\n",
       " 'layers.4.layers.1.1.bias',\n",
       " 'layers.4.layers.1.1.num_batches_tracked',\n",
       " 'layers.4.layers.1.1.running_mean',\n",
       " 'layers.4.layers.1.1.running_var',\n",
       " 'layers.4.layers.1.1.weight',\n",
       " 'layers.4.layers.2.0.weight',\n",
       " 'layers.4.layers.2.1.bias',\n",
       " 'layers.4.layers.2.1.num_batches_tracked',\n",
       " 'layers.4.layers.2.1.running_mean',\n",
       " 'layers.4.layers.2.1.running_var',\n",
       " 'layers.4.layers.2.1.weight',\n",
       " 'layers.4.layers.3.0.weight',\n",
       " 'layers.4.layers.3.1.bias',\n",
       " 'layers.4.layers.3.1.num_batches_tracked',\n",
       " 'layers.4.layers.3.1.running_mean',\n",
       " 'layers.4.layers.3.1.running_var',\n",
       " 'layers.4.layers.3.1.weight',\n",
       " 'layers.4.layers.4.0.weight',\n",
       " 'layers.4.layers.4.1.bias',\n",
       " 'layers.4.layers.4.1.num_batches_tracked',\n",
       " 'layers.4.layers.4.1.running_mean',\n",
       " 'layers.4.layers.4.1.running_var',\n",
       " 'layers.4.layers.4.1.weight',\n",
       " 'linear.bias',\n",
       " 'linear.weight'}"
      ]
     },
     "execution_count": 88,
     "metadata": {},
     "output_type": "execute_result"
    }
   ],
   "source": [
    "set(m)"
   ]
  },
  {
   "cell_type": "code",
   "execution_count": null,
   "id": "transsexual-stuff",
   "metadata": {},
   "outputs": [],
   "source": []
  },
  {
   "cell_type": "code",
   "execution_count": null,
   "id": "second-ladder",
   "metadata": {},
   "outputs": [],
   "source": []
  },
  {
   "cell_type": "code",
   "execution_count": null,
   "id": "stuck-bahamas",
   "metadata": {},
   "outputs": [],
   "source": []
  },
  {
   "cell_type": "code",
   "execution_count": null,
   "id": "veterinary-silly",
   "metadata": {},
   "outputs": [],
   "source": []
  },
  {
   "cell_type": "code",
   "execution_count": 90,
   "id": "underlying-syntax",
   "metadata": {},
   "outputs": [],
   "source": []
  },
  {
   "cell_type": "code",
   "execution_count": 95,
   "id": "abandoned-allah",
   "metadata": {},
   "outputs": [
    {
     "data": {
      "text/plain": [
       "array([401])"
      ]
     },
     "execution_count": 95,
     "metadata": {},
     "output_type": "execute_result"
    }
   ],
   "source": []
  },
  {
   "cell_type": "code",
   "execution_count": null,
   "id": "rolled-franchise",
   "metadata": {},
   "outputs": [],
   "source": []
  },
  {
   "cell_type": "code",
   "execution_count": null,
   "id": "mathematical-office",
   "metadata": {},
   "outputs": [],
   "source": []
  }
 ],
 "metadata": {
  "kernelspec": {
   "display_name": "Python 3",
   "language": "python",
   "name": "python3"
  },
  "language_info": {
   "codemirror_mode": {
    "name": "ipython",
    "version": 3
   },
   "file_extension": ".py",
   "mimetype": "text/x-python",
   "name": "python",
   "nbconvert_exporter": "python",
   "pygments_lexer": "ipython3",
   "version": "3.8.8"
  }
 },
 "nbformat": 4,
 "nbformat_minor": 5
}
