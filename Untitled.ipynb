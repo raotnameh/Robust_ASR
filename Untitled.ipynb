{
 "cells": [
  {
   "cell_type": "code",
   "execution_count": 2,
   "id": "green-security",
   "metadata": {},
   "outputs": [],
   "source": [
    "import torch"
   ]
  },
  {
   "cell_type": "code",
   "execution_count": 3,
   "id": "mental-dinner",
   "metadata": {},
   "outputs": [],
   "source": [
    "new = torch.load(\"enus_40/hor/models/ckpt_1_12.pth\", map_location=\"cpu\")['models']"
   ]
  },
  {
   "cell_type": "code",
   "execution_count": 4,
   "id": "social-classroom",
   "metadata": {},
   "outputs": [],
   "source": [
    "old = torch.load(\"enus_40/asr_libri_M_F_full/models/ckpt_final.pth\", map_location=\"cpu\")['models']"
   ]
  },
  {
   "cell_type": "code",
   "execution_count": 5,
   "id": "continuous-struggle",
   "metadata": {},
   "outputs": [
    {
     "data": {
      "text/plain": [
       "dict_keys(['preprocessing', 'encoder', 'decoder', 'predictor', 'forget_net', 'discriminator'])"
      ]
     },
     "execution_count": 5,
     "metadata": {},
     "output_type": "execute_result"
    }
   ],
   "source": [
    "old.keys()"
   ]
  },
  {
   "cell_type": "code",
   "execution_count": 6,
   "id": "north-particle",
   "metadata": {},
   "outputs": [
    {
     "data": {
      "text/plain": [
       "dict_keys(['preprocessing', 'encoder', 'decoder', 'predictor', 'forget_net', 'discriminator'])"
      ]
     },
     "execution_count": 6,
     "metadata": {},
     "output_type": "execute_result"
    }
   ],
   "source": [
    "new.keys()"
   ]
  },
  {
   "cell_type": "code",
   "execution_count": 35,
   "id": "authentic-nightlife",
   "metadata": {
    "scrolled": true
   },
   "outputs": [
    {
     "name": "stdout",
     "output_type": "stream",
     "text": [
      "Adam (\n",
      "Parameter Group 0\n",
      "    amsgrad: True\n",
      "    betas: (0.9, 0.999)\n",
      "    eps: 1e-08\n",
      "    initial_lr: 0.0015\n",
      "    lr: 0.00021359361201956202\n",
      "    weight_decay: 0.0001\n",
      ")\n",
      "Adam (\n",
      "Parameter Group 0\n",
      "    amsgrad: True\n",
      "    betas: (0.9, 0.999)\n",
      "    eps: 1e-08\n",
      "    initial_lr: 0.0015\n",
      "    lr: 0.00021359361201956202\n",
      "    weight_decay: 0.0001\n",
      ")\n",
      "Adam (\n",
      "Parameter Group 0\n",
      "    amsgrad: True\n",
      "    betas: (0.9, 0.999)\n",
      "    eps: 1e-08\n",
      "    initial_lr: 0.0015\n",
      "    lr: 0.00021359361201956202\n",
      "    weight_decay: 0.0001\n",
      ")\n",
      "Adam (\n",
      "Parameter Group 0\n",
      "    amsgrad: True\n",
      "    betas: (0.9, 0.999)\n",
      "    eps: 1e-08\n",
      "    initial_lr: 0.0015\n",
      "    lr: 0.00021359361201956202\n",
      "    weight_decay: 0.0001\n",
      ")\n",
      "Adam (\n",
      "Parameter Group 0\n",
      "    amsgrad: True\n",
      "    betas: (0.9, 0.999)\n",
      "    eps: 1e-08\n",
      "    initial_lr: 0.0015\n",
      "    lr: 0.00021359361201956202\n",
      "    weight_decay: 0.0001\n",
      ")\n",
      "Adam (\n",
      "Parameter Group 0\n",
      "    amsgrad: True\n",
      "    betas: (0.9, 0.999)\n",
      "    eps: 1e-08\n",
      "    initial_lr: 0.0015\n",
      "    lr: 0.00021359361201956202\n",
      "    weight_decay: 0.0001\n",
      ")\n"
     ]
    }
   ],
   "source": [
    "for i in old:\n",
    "    print(old[i][-1])"
   ]
  },
  {
   "cell_type": "code",
   "execution_count": 31,
   "id": "architectural-japan",
   "metadata": {},
   "outputs": [],
   "source": [
    "o = torch.load(\"enus_40/dummy/models/ckpt_1_2.pth\", map_location=\"cpu\")['models']"
   ]
  },
  {
   "cell_type": "code",
   "execution_count": 32,
   "id": "knowing-cooking",
   "metadata": {
    "scrolled": true
   },
   "outputs": [
    {
     "name": "stdout",
     "output_type": "stream",
     "text": [
      "Adam (\n",
      "Parameter Group 0\n",
      "    amsgrad: True\n",
      "    betas: (0.9, 0.999)\n",
      "    eps: 1e-08\n",
      "    lr: 0.0015\n",
      "    weight_decay: 0.0001\n",
      ")\n",
      "Adam (\n",
      "Parameter Group 0\n",
      "    amsgrad: True\n",
      "    betas: (0.9, 0.999)\n",
      "    eps: 1e-08\n",
      "    lr: 0.0015\n",
      "    weight_decay: 0.0001\n",
      ")\n",
      "Adam (\n",
      "Parameter Group 0\n",
      "    amsgrad: True\n",
      "    betas: (0.9, 0.999)\n",
      "    eps: 1e-08\n",
      "    lr: 0.0015\n",
      "    weight_decay: 0.0001\n",
      ")\n",
      "Adam (\n",
      "Parameter Group 0\n",
      "    amsgrad: True\n",
      "    betas: (0.9, 0.999)\n",
      "    eps: 1e-08\n",
      "    lr: 0.0015\n",
      "    weight_decay: 0.0001\n",
      ")\n"
     ]
    }
   ],
   "source": [
    "for i in o:\n",
    "    print(o\n",
    "          [i][-1])"
   ]
  },
  {
   "cell_type": "code",
   "execution_count": null,
   "id": "engaged-beads",
   "metadata": {},
   "outputs": [],
   "source": []
  },
  {
   "cell_type": "code",
   "execution_count": null,
   "id": "oriental-criterion",
   "metadata": {},
   "outputs": [],
   "source": []
  },
  {
   "cell_type": "code",
   "execution_count": 21,
   "id": "industrial-wagner",
   "metadata": {},
   "outputs": [],
   "source": [
    "dummy = []"
   ]
  },
  {
   "cell_type": "code",
   "execution_count": 22,
   "id": "failing-gardening",
   "metadata": {},
   "outputs": [],
   "source": [
    "dummy = []\n",
    "\n",
    "for i in old:\n",
    "    for k in old[i][0].state_dict():\n",
    "        dummy.append([k, old[i][0].state_dict()[k]])\n",
    "#     h+=1"
   ]
  },
  {
   "cell_type": "code",
   "execution_count": 23,
   "id": "lined-dollar",
   "metadata": {},
   "outputs": [
    {
     "data": {
      "text/plain": [
       "473"
      ]
     },
     "execution_count": 23,
     "metadata": {},
     "output_type": "execute_result"
    }
   ],
   "source": [
    "len(dummy)"
   ]
  },
  {
   "cell_type": "code",
   "execution_count": 24,
   "id": "extra-leadership",
   "metadata": {
    "scrolled": true
   },
   "outputs": [
    {
     "data": {
      "text/plain": [
       "['layers.0.layers.0.weight',\n",
       " tensor([[[-1.0900e-03,  3.4885e-02, -3.7682e-02,  ..., -2.2101e-03,\n",
       "           -3.4556e-02, -3.2794e-03],\n",
       "          [ 3.6652e-02, -2.5544e-02, -1.9904e-02,  ...,  9.6409e-02,\n",
       "            9.1336e-03,  7.8325e-02],\n",
       "          [ 3.3616e-03, -3.0546e-03, -8.7330e-02,  ...,  5.3049e-02,\n",
       "           -4.5513e-03, -3.7987e-02],\n",
       "          ...,\n",
       "          [ 1.3612e-01,  7.1273e-02,  7.5406e-03,  ...,  7.6190e-02,\n",
       "            4.3434e-02,  4.9343e-03],\n",
       "          [ 2.1300e-01,  9.6132e-02,  2.5582e-02,  ...,  3.5107e-02,\n",
       "            1.3063e-01,  7.6907e-02],\n",
       "          [ 1.5892e-01,  1.7977e-01, -4.8425e-02,  ...,  4.7514e-03,\n",
       "            1.6026e-01, -1.5777e-02]],\n",
       " \n",
       "         [[ 1.2330e-02,  4.4023e-03, -4.9743e-03,  ...,  4.5590e-02,\n",
       "            4.7330e-02,  4.6341e-02],\n",
       "          [ 8.3076e-03,  3.2030e-02,  2.3947e-02,  ...,  6.2337e-03,\n",
       "            2.7069e-02,  7.7028e-02],\n",
       "          [ 4.9976e-02,  1.2552e-01,  2.3043e-01,  ..., -2.4844e-02,\n",
       "           -5.4424e-02, -5.2424e-02],\n",
       "          ...,\n",
       "          [-6.8888e-02, -2.0864e-02, -8.8032e-04,  ...,  3.2177e-03,\n",
       "            1.9218e-02,  8.5740e-03],\n",
       "          [ 9.4925e-03,  2.8787e-03, -9.8201e-03,  ...,  2.6391e-02,\n",
       "            2.6995e-02,  6.5404e-02],\n",
       "          [-2.7057e-02,  3.2590e-02, -7.5377e-02,  ..., -1.0492e-01,\n",
       "            6.3673e-03, -1.2091e-02]],\n",
       " \n",
       "         [[ 6.5170e-02, -1.5976e-03,  5.3891e-02,  ...,  1.0976e-04,\n",
       "            7.8359e-02, -6.7624e-03],\n",
       "          [ 4.4789e-02,  1.5086e-03,  3.0961e-02,  ...,  1.5630e-02,\n",
       "           -8.1666e-02, -3.6853e-03],\n",
       "          [-3.3600e-02, -3.2947e-02,  3.0100e-02,  ...,  1.9364e-02,\n",
       "            5.8745e-02,  1.1311e-02],\n",
       "          ...,\n",
       "          [ 4.3999e-02, -1.6080e-02, -2.5220e-02,  ...,  1.1077e-01,\n",
       "           -3.1263e-02,  9.8256e-02],\n",
       "          [ 7.9410e-04, -5.0110e-02,  1.1030e-02,  ...,  8.9107e-02,\n",
       "            5.4126e-02, -6.6475e-02],\n",
       "          [-1.1255e-01, -7.2125e-02, -1.4450e-03,  ...,  1.0515e-01,\n",
       "           -7.7232e-02, -1.8836e-02]],\n",
       " \n",
       "         ...,\n",
       " \n",
       "         [[-3.5450e-02,  3.3939e-02,  4.4774e-02,  ...,  4.0702e-02,\n",
       "           -5.3598e-02, -3.8166e-02],\n",
       "          [-1.0690e-02,  6.7298e-02,  9.6142e-03,  ...,  6.0017e-02,\n",
       "            1.2001e-01,  4.7354e-02],\n",
       "          [ 2.6249e-01,  1.6367e-01,  6.1654e-03,  ...,  2.3333e-02,\n",
       "            1.0364e-01,  2.3794e-01],\n",
       "          ...,\n",
       "          [ 8.4725e-02,  5.6705e-02,  6.9802e-02,  ...,  9.4387e-02,\n",
       "           -2.0894e-02,  7.0314e-03],\n",
       "          [ 7.2962e-02,  7.7595e-02,  5.8201e-02,  ...,  3.6711e-02,\n",
       "            3.4285e-02,  1.0737e-01],\n",
       "          [ 7.3119e-02,  1.1456e-01,  4.7889e-02,  ...,  9.5956e-02,\n",
       "            6.1158e-02,  1.0321e-01]],\n",
       " \n",
       "         [[-4.9152e-02, -2.6700e-02,  9.7400e-03,  ..., -1.2542e-02,\n",
       "            2.1412e-02, -6.5482e-03],\n",
       "          [-5.2801e-02, -1.4845e-01, -4.2908e-02,  ...,  1.2634e-01,\n",
       "            8.3641e-02,  1.8499e-01],\n",
       "          [ 7.5741e-02,  5.3937e-02, -7.6692e-03,  ...,  6.4991e-02,\n",
       "            1.0206e-01,  6.1484e-02],\n",
       "          ...,\n",
       "          [-1.1826e-01, -1.4137e-01, -8.6576e-02,  ..., -8.6355e-02,\n",
       "           -2.4314e-02,  3.0487e-02],\n",
       "          [-1.9218e-01, -1.7162e-01, -6.9024e-02,  ..., -1.3204e-01,\n",
       "            4.3013e-02,  2.9034e-03],\n",
       "          [-2.3405e-01, -2.1599e-01, -2.0052e-01,  ...,  2.2220e-02,\n",
       "            2.4992e-02,  5.2010e-02]],\n",
       " \n",
       "         [[ 3.0052e-02, -5.2793e-02, -2.7120e-02,  ...,  4.6717e-02,\n",
       "            1.1910e-02,  4.9472e-02],\n",
       "          [ 6.6627e-02,  5.6765e-02,  5.0414e-03,  ...,  2.1074e-02,\n",
       "           -6.8387e-05,  1.6240e-02],\n",
       "          [-2.5970e-01, -1.8975e-01, -3.6236e-02,  ...,  1.0618e-01,\n",
       "            3.9451e-02,  2.9524e-02],\n",
       "          ...,\n",
       "          [ 3.8222e-02, -2.2436e-02, -1.2335e-01,  ..., -1.0309e-01,\n",
       "           -1.2869e-01, -2.7368e-03],\n",
       "          [ 9.2495e-02, -2.5889e-03, -8.3447e-02,  ..., -1.3098e-01,\n",
       "           -1.2351e-01,  2.8472e-02],\n",
       "          [ 1.0148e-01,  1.3145e-01, -9.5790e-02,  ..., -5.7721e-02,\n",
       "           -1.2207e-01, -4.1144e-02]]])]"
      ]
     },
     "execution_count": 24,
     "metadata": {},
     "output_type": "execute_result"
    }
   ],
   "source": [
    "dummy[0]"
   ]
  },
  {
   "cell_type": "code",
   "execution_count": 25,
   "id": "bottom-investing",
   "metadata": {
    "scrolled": true
   },
   "outputs": [
    {
     "data": {
      "text/plain": [
       "tensor([[[-1.0900e-03,  3.4885e-02, -3.7682e-02,  ..., -2.2101e-03,\n",
       "          -3.4556e-02, -3.2794e-03],\n",
       "         [ 3.6652e-02, -2.5544e-02, -1.9904e-02,  ...,  9.6409e-02,\n",
       "           9.1336e-03,  7.8325e-02],\n",
       "         [ 3.3616e-03, -3.0546e-03, -8.7330e-02,  ...,  5.3049e-02,\n",
       "          -4.5513e-03, -3.7987e-02],\n",
       "         ...,\n",
       "         [ 1.3612e-01,  7.1273e-02,  7.5406e-03,  ...,  7.6190e-02,\n",
       "           4.3434e-02,  4.9343e-03],\n",
       "         [ 2.1300e-01,  9.6132e-02,  2.5582e-02,  ...,  3.5107e-02,\n",
       "           1.3063e-01,  7.6907e-02],\n",
       "         [ 1.5892e-01,  1.7977e-01, -4.8425e-02,  ...,  4.7514e-03,\n",
       "           1.6026e-01, -1.5777e-02]],\n",
       "\n",
       "        [[ 1.2330e-02,  4.4023e-03, -4.9743e-03,  ...,  4.5590e-02,\n",
       "           4.7330e-02,  4.6341e-02],\n",
       "         [ 8.3076e-03,  3.2030e-02,  2.3947e-02,  ...,  6.2337e-03,\n",
       "           2.7069e-02,  7.7028e-02],\n",
       "         [ 4.9976e-02,  1.2552e-01,  2.3043e-01,  ..., -2.4844e-02,\n",
       "          -5.4424e-02, -5.2424e-02],\n",
       "         ...,\n",
       "         [-6.8888e-02, -2.0864e-02, -8.8032e-04,  ...,  3.2177e-03,\n",
       "           1.9218e-02,  8.5740e-03],\n",
       "         [ 9.4925e-03,  2.8787e-03, -9.8201e-03,  ...,  2.6391e-02,\n",
       "           2.6995e-02,  6.5404e-02],\n",
       "         [-2.7057e-02,  3.2590e-02, -7.5377e-02,  ..., -1.0492e-01,\n",
       "           6.3673e-03, -1.2091e-02]],\n",
       "\n",
       "        [[ 6.5170e-02, -1.5976e-03,  5.3891e-02,  ...,  1.0976e-04,\n",
       "           7.8359e-02, -6.7624e-03],\n",
       "         [ 4.4789e-02,  1.5086e-03,  3.0961e-02,  ...,  1.5630e-02,\n",
       "          -8.1666e-02, -3.6853e-03],\n",
       "         [-3.3600e-02, -3.2947e-02,  3.0100e-02,  ...,  1.9364e-02,\n",
       "           5.8745e-02,  1.1311e-02],\n",
       "         ...,\n",
       "         [ 4.3999e-02, -1.6080e-02, -2.5220e-02,  ...,  1.1077e-01,\n",
       "          -3.1263e-02,  9.8256e-02],\n",
       "         [ 7.9410e-04, -5.0110e-02,  1.1030e-02,  ...,  8.9107e-02,\n",
       "           5.4126e-02, -6.6475e-02],\n",
       "         [-1.1255e-01, -7.2125e-02, -1.4450e-03,  ...,  1.0515e-01,\n",
       "          -7.7232e-02, -1.8836e-02]],\n",
       "\n",
       "        ...,\n",
       "\n",
       "        [[-3.5450e-02,  3.3939e-02,  4.4774e-02,  ...,  4.0702e-02,\n",
       "          -5.3598e-02, -3.8166e-02],\n",
       "         [-1.0690e-02,  6.7298e-02,  9.6142e-03,  ...,  6.0017e-02,\n",
       "           1.2001e-01,  4.7354e-02],\n",
       "         [ 2.6249e-01,  1.6367e-01,  6.1654e-03,  ...,  2.3333e-02,\n",
       "           1.0364e-01,  2.3794e-01],\n",
       "         ...,\n",
       "         [ 8.4725e-02,  5.6705e-02,  6.9802e-02,  ...,  9.4387e-02,\n",
       "          -2.0894e-02,  7.0314e-03],\n",
       "         [ 7.2962e-02,  7.7595e-02,  5.8201e-02,  ...,  3.6711e-02,\n",
       "           3.4285e-02,  1.0737e-01],\n",
       "         [ 7.3119e-02,  1.1456e-01,  4.7889e-02,  ...,  9.5956e-02,\n",
       "           6.1158e-02,  1.0321e-01]],\n",
       "\n",
       "        [[-4.9152e-02, -2.6700e-02,  9.7400e-03,  ..., -1.2542e-02,\n",
       "           2.1412e-02, -6.5482e-03],\n",
       "         [-5.2801e-02, -1.4845e-01, -4.2908e-02,  ...,  1.2634e-01,\n",
       "           8.3641e-02,  1.8499e-01],\n",
       "         [ 7.5741e-02,  5.3937e-02, -7.6692e-03,  ...,  6.4991e-02,\n",
       "           1.0206e-01,  6.1484e-02],\n",
       "         ...,\n",
       "         [-1.1826e-01, -1.4137e-01, -8.6576e-02,  ..., -8.6355e-02,\n",
       "          -2.4314e-02,  3.0487e-02],\n",
       "         [-1.9218e-01, -1.7162e-01, -6.9024e-02,  ..., -1.3204e-01,\n",
       "           4.3013e-02,  2.9034e-03],\n",
       "         [-2.3405e-01, -2.1599e-01, -2.0052e-01,  ...,  2.2220e-02,\n",
       "           2.4992e-02,  5.2010e-02]],\n",
       "\n",
       "        [[ 3.0052e-02, -5.2793e-02, -2.7120e-02,  ...,  4.6717e-02,\n",
       "           1.1910e-02,  4.9472e-02],\n",
       "         [ 6.6627e-02,  5.6765e-02,  5.0414e-03,  ...,  2.1074e-02,\n",
       "          -6.8387e-05,  1.6240e-02],\n",
       "         [-2.5970e-01, -1.8975e-01, -3.6236e-02,  ...,  1.0618e-01,\n",
       "           3.9451e-02,  2.9524e-02],\n",
       "         ...,\n",
       "         [ 3.8222e-02, -2.2436e-02, -1.2335e-01,  ..., -1.0309e-01,\n",
       "          -1.2869e-01, -2.7368e-03],\n",
       "         [ 9.2495e-02, -2.5889e-03, -8.3447e-02,  ..., -1.3098e-01,\n",
       "          -1.2351e-01,  2.8472e-02],\n",
       "         [ 1.0148e-01,  1.3145e-01, -9.5790e-02,  ..., -5.7721e-02,\n",
       "          -1.2207e-01, -4.1144e-02]]])"
      ]
     },
     "execution_count": 25,
     "metadata": {},
     "output_type": "execute_result"
    }
   ],
   "source": [
    "new['preprocessing'][0].state_dict()['layers.0.layers.0.conv_pre.weight']"
   ]
  },
  {
   "cell_type": "code",
   "execution_count": 26,
   "id": "fancy-windows",
   "metadata": {},
   "outputs": [
    {
     "name": "stdout",
     "output_type": "stream",
     "text": [
      "preprocessing\n",
      "\n",
      "encoder\n",
      "\n",
      "decoder\n",
      "\n",
      "predictor\n",
      "\n",
      "forget_net\n",
      "\n",
      "discriminator\n",
      "\n"
     ]
    }
   ],
   "source": [
    "h = 0\n",
    "for i in new:\n",
    "    print(i)\n",
    "    print()\n",
    "    for k in new[i][0].state_dict():\n",
    "#         print(k)\n",
    "#         break\n",
    "        if new[i][0].state_dict()[k].shape == dummy[h][1].shape: \n",
    "            new[i][0].state_dict()[k].copy_(dummy[h][1])\n",
    "#                 print(dummy[h][0],k)\n",
    "        else: print('passs')\n",
    "        h+=1\n",
    "#     break"
   ]
  },
  {
   "cell_type": "code",
   "execution_count": 27,
   "id": "structured-sample",
   "metadata": {},
   "outputs": [],
   "source": [
    "save = torch.load(\"enus_40/asr_libri_M_F_full//models/ckpt_final.pth\", map_location=\"cpu\")"
   ]
  },
  {
   "cell_type": "code",
   "execution_count": 28,
   "id": "secure-collar",
   "metadata": {},
   "outputs": [
    {
     "data": {
      "text/plain": [
       "dict_keys(['models', 'start_epoch', 'best_wer', 'best_cer', 'poor_cer_list', 'start_iter', 'accent_dict', 'version', 'train.log', 'audio_conf', 'labels'])"
      ]
     },
     "execution_count": 28,
     "metadata": {},
     "output_type": "execute_result"
    }
   ],
   "source": [
    "save.keys()"
   ]
  },
  {
   "cell_type": "code",
   "execution_count": 29,
   "id": "hybrid-nicholas",
   "metadata": {
    "scrolled": true
   },
   "outputs": [],
   "source": [
    "for i in save['models']:\n",
    "    save['models'][i][0] = new[i][0]"
   ]
  },
  {
   "cell_type": "code",
   "execution_count": 30,
   "id": "usual-senate",
   "metadata": {},
   "outputs": [],
   "source": [
    "torch.save(save,'enus_40/hor/models/new.pth')"
   ]
  },
  {
   "cell_type": "code",
   "execution_count": 36,
   "id": "stunning-mechanism",
   "metadata": {},
   "outputs": [],
   "source": [
    "a = torch.load(\"enus_40/hor/models/new.pth\", map_location=\"cpu\")['models']"
   ]
  },
  {
   "cell_type": "code",
   "execution_count": 37,
   "id": "defensive-adobe",
   "metadata": {
    "scrolled": true
   },
   "outputs": [
    {
     "name": "stdout",
     "output_type": "stream",
     "text": [
      "Adam (\n",
      "Parameter Group 0\n",
      "    amsgrad: True\n",
      "    betas: (0.9, 0.999)\n",
      "    eps: 1e-08\n",
      "    initial_lr: 0.0015\n",
      "    lr: 0.00021359361201956202\n",
      "    weight_decay: 0.0001\n",
      ")\n",
      "Adam (\n",
      "Parameter Group 0\n",
      "    amsgrad: True\n",
      "    betas: (0.9, 0.999)\n",
      "    eps: 1e-08\n",
      "    initial_lr: 0.0015\n",
      "    lr: 0.00021359361201956202\n",
      "    weight_decay: 0.0001\n",
      ")\n",
      "Adam (\n",
      "Parameter Group 0\n",
      "    amsgrad: True\n",
      "    betas: (0.9, 0.999)\n",
      "    eps: 1e-08\n",
      "    initial_lr: 0.0015\n",
      "    lr: 0.00021359361201956202\n",
      "    weight_decay: 0.0001\n",
      ")\n",
      "Adam (\n",
      "Parameter Group 0\n",
      "    amsgrad: True\n",
      "    betas: (0.9, 0.999)\n",
      "    eps: 1e-08\n",
      "    initial_lr: 0.0015\n",
      "    lr: 0.00021359361201956202\n",
      "    weight_decay: 0.0001\n",
      ")\n",
      "Adam (\n",
      "Parameter Group 0\n",
      "    amsgrad: True\n",
      "    betas: (0.9, 0.999)\n",
      "    eps: 1e-08\n",
      "    initial_lr: 0.0015\n",
      "    lr: 0.00021359361201956202\n",
      "    weight_decay: 0.0001\n",
      ")\n",
      "Adam (\n",
      "Parameter Group 0\n",
      "    amsgrad: True\n",
      "    betas: (0.9, 0.999)\n",
      "    eps: 1e-08\n",
      "    initial_lr: 0.0015\n",
      "    lr: 0.00021359361201956202\n",
      "    weight_decay: 0.0001\n",
      ")\n"
     ]
    }
   ],
   "source": [
    "for i in a:\n",
    "    print(a[i][-1])"
   ]
  },
  {
   "cell_type": "code",
   "execution_count": null,
   "id": "faced-saudi",
   "metadata": {
    "scrolled": true
   },
   "outputs": [],
   "source": [
    "a['preprocessing'][0].state_dict()['layers.0.layers.0.conv_pre.weight']"
   ]
  },
  {
   "cell_type": "code",
   "execution_count": null,
   "id": "architectural-section",
   "metadata": {},
   "outputs": [],
   "source": []
  },
  {
   "cell_type": "code",
   "execution_count": null,
   "id": "acute-interim",
   "metadata": {},
   "outputs": [],
   "source": [
    "m = []\n",
    "for i in dummy:\n",
    "    m.append(i[0])\n",
    "#     print(i[0])"
   ]
  },
  {
   "cell_type": "code",
   "execution_count": null,
   "id": "enclosed-evans",
   "metadata": {},
   "outputs": [],
   "source": [
    "len(m)"
   ]
  },
  {
   "cell_type": "code",
   "execution_count": null,
   "id": "available-exploration",
   "metadata": {},
   "outputs": [],
   "source": [
    "set(m)"
   ]
  },
  {
   "cell_type": "code",
   "execution_count": 46,
   "id": "transsexual-stuff",
   "metadata": {},
   "outputs": [
    {
     "name": "stdout",
     "output_type": "stream",
     "text": [
      "4 d\n",
      "9 d\n",
      "14 d\n",
      "19 d\n",
      "24 d\n",
      "29 d\n",
      "34 d\n",
      "39 d\n",
      "44 d\n",
      "49 d\n",
      "54 d\n",
      "59 d\n",
      "64 d\n",
      "69 d\n",
      "74 d\n",
      "79 d\n",
      "84 d\n",
      "89 d\n",
      "94 d\n",
      "99 d\n"
     ]
    }
   ],
   "source": [
    "n = 5\n",
    "for x in range(100):\n",
    "    if x % n+1 == n:\n",
    "        print(x,'d')"
   ]
  },
  {
   "cell_type": "code",
   "execution_count": null,
   "id": "negative-scholarship",
   "metadata": {},
   "outputs": [],
   "source": []
  },
  {
   "cell_type": "code",
   "execution_count": null,
   "id": "increasing-posting",
   "metadata": {},
   "outputs": [],
   "source": []
  },
  {
   "cell_type": "code",
   "execution_count": null,
   "id": "behavioral-mainstream",
   "metadata": {},
   "outputs": [],
   "source": []
  },
  {
   "cell_type": "code",
   "execution_count": 1,
   "id": "municipal-wheat",
   "metadata": {},
   "outputs": [],
   "source": [
    "with open(\"/media/data_dump/hemant/hemant/v2_asr/Robust_ASR/train_m_f.csv\", \"r\") as f:\n",
    "    mf = f.readlines()"
   ]
  },
  {
   "cell_type": "code",
   "execution_count": 2,
   "id": "original-kuwait",
   "metadata": {},
   "outputs": [],
   "source": [
    "with open(\"/media/data_dump/hemant/hemant/v2_asr/Robust_ASR/new_out.csv\", \"r\") as f:\n",
    "    a = f.readlines()"
   ]
  },
  {
   "cell_type": "code",
   "execution_count": null,
   "id": "blocked-right",
   "metadata": {},
   "outputs": [],
   "source": [
    "with open(\"/media/data_dump/hemant/hemant/v2_asr/Robust_ASR/out.csv\", \"r\") as f:\n",
    "    b = f.readlines()"
   ]
  },
  {
   "cell_type": "code",
   "execution_count": null,
   "id": "sustained-material",
   "metadata": {},
   "outputs": [],
   "source": []
  },
  {
   "cell_type": "code",
   "execution_count": null,
   "id": "illegal-croatia",
   "metadata": {},
   "outputs": [],
   "source": [
    "m = ''\n",
    "for i in range(len(a)):\n",
    "    print(b[int(a[i].split('_')[0])], int(a[i].split('_')[0]))\n",
    "    m+=b[int(a[i].split('_')[0])]"
   ]
  },
  {
   "cell_type": "code",
   "execution_count": 23,
   "id": "early-candle",
   "metadata": {},
   "outputs": [
    {
     "data": {
      "text/plain": [
       "{1}"
      ]
     },
     "execution_count": 23,
     "metadata": {},
     "output_type": "execute_result"
    }
   ],
   "source": [
    "set([1,2,3,4]) - set([2,3,4,5])"
   ]
  },
  {
   "cell_type": "code",
   "execution_count": 28,
   "id": "based-crime",
   "metadata": {},
   "outputs": [],
   "source": [
    "d = set(mf) - set(a)"
   ]
  },
  {
   "cell_type": "code",
   "execution_count": 30,
   "id": "tracked-stockholm",
   "metadata": {},
   "outputs": [],
   "source": [
    "e = [i for i in d]\n"
   ]
  },
  {
   "cell_type": "code",
   "execution_count": 32,
   "id": "muslim-environment",
   "metadata": {},
   "outputs": [
    {
     "data": {
      "text/plain": [
       "['/media/data_dump/hemant/rachit/dataset/downloaded_Data/librispeech/LibriSpeech/wav/train_other_500-6138-93186-0036.wav,/media/data_dump/hemant/rachit/dataset/downloaded_Data/librispeech/LibriSpeech/txt/train_other_500-6138-93186-0036.txt,F\\n',\n",
       " '/media/data_dump/hemant/rachit/dataset/downloaded_Data/librispeech/LibriSpeech/wav/train_clean_360-3185-163507-0022.wav,/media/data_dump/hemant/rachit/dataset/downloaded_Data/librispeech/LibriSpeech/txt/train_clean_360-3185-163507-0022.txt,M\\n',\n",
       " '/media/data_dump/hemant/rachit/dataset/downloaded_Data/librispeech/LibriSpeech/wav/train_clean_360-5684-46243-0057.wav,/media/data_dump/hemant/rachit/dataset/downloaded_Data/librispeech/LibriSpeech/txt/train_clean_360-5684-46243-0057.txt,F\\n',\n",
       " '/media/data_dump/hemant/rachit/dataset/downloaded_Data/librispeech/LibriSpeech/wav/train_clean_360-8534-216567-0017.wav,/media/data_dump/hemant/rachit/dataset/downloaded_Data/librispeech/LibriSpeech/txt/train_clean_360-8534-216567-0017.txt,M\\n',\n",
       " '/media/data_dump/hemant/rachit/dataset/downloaded_Data/librispeech/LibriSpeech/wav/train_other_500-3006-5697-0038.wav,/media/data_dump/hemant/rachit/dataset/downloaded_Data/librispeech/LibriSpeech/txt/train_other_500-3006-5697-0038.txt,F\\n',\n",
       " '/media/data_dump/hemant/rachit/dataset/downloaded_Data/librispeech/LibriSpeech/wav/train_clean_360-6378-61777-0007.wav,/media/data_dump/hemant/rachit/dataset/downloaded_Data/librispeech/LibriSpeech/txt/train_clean_360-6378-61777-0007.txt,F\\n',\n",
       " '/media/data_dump/hemant/rachit/dataset/downloaded_Data/librispeech/LibriSpeech/wav/train_other_500-1266-136523-0012.wav,/media/data_dump/hemant/rachit/dataset/downloaded_Data/librispeech/LibriSpeech/txt/train_other_500-1266-136523-0012.txt,F\\n',\n",
       " '/media/data_dump/hemant/rachit/dataset/downloaded_Data/librispeech/LibriSpeech/wav/train_clean_360-4152-12926-0007.wav,/media/data_dump/hemant/rachit/dataset/downloaded_Data/librispeech/LibriSpeech/txt/train_clean_360-4152-12926-0007.txt,M\\n',\n",
       " '/media/data_dump/hemant/rachit/dataset/downloaded_Data/librispeech/LibriSpeech/wav/train_clean_360-1463-134465-0023.wav,/media/data_dump/hemant/rachit/dataset/downloaded_Data/librispeech/LibriSpeech/txt/train_clean_360-1463-134465-0023.txt,F\\n',\n",
       " '/media/data_dump/hemant/rachit/dataset/downloaded_Data/librispeech/LibriSpeech/wav/train_other_500-1750-142369-0003.wav,/media/data_dump/hemant/rachit/dataset/downloaded_Data/librispeech/LibriSpeech/txt/train_other_500-1750-142369-0003.txt,F\\n',\n",
       " '/media/data_dump/hemant/rachit/dataset/downloaded_Data/librispeech/LibriSpeech/wav/train_other_500-7436-97462-0028.wav,/media/data_dump/hemant/rachit/dataset/downloaded_Data/librispeech/LibriSpeech/txt/train_other_500-7436-97462-0028.txt,M\\n',\n",
       " '/media/data_dump/hemant/rachit/dataset/downloaded_Data/librispeech/LibriSpeech/wav/train_clean_100-6925-80680-0000.wav,/media/data_dump/hemant/rachit/dataset/downloaded_Data/librispeech/LibriSpeech/txt/train_clean_100-6925-80680-0000.txt,M\\n',\n",
       " '/media/data_dump/hemant/rachit/dataset/downloaded_Data/librispeech/LibriSpeech/wav/train_clean_100-8838-298546-0018.wav,/media/data_dump/hemant/rachit/dataset/downloaded_Data/librispeech/LibriSpeech/txt/train_clean_100-8838-298546-0018.txt,M\\n',\n",
       " '/media/data_dump/hemant/rachit/dataset/downloaded_Data/librispeech/LibriSpeech/wav/train_clean_360-6120-14976-0008.wav,/media/data_dump/hemant/rachit/dataset/downloaded_Data/librispeech/LibriSpeech/txt/train_clean_360-6120-14976-0008.txt,F\\n',\n",
       " '/media/data_dump/hemant/rachit/dataset/downloaded_Data/librispeech/LibriSpeech/wav/train_clean_360-5519-39481-0033.wav,/media/data_dump/hemant/rachit/dataset/downloaded_Data/librispeech/LibriSpeech/txt/train_clean_360-5519-39481-0033.txt,M\\n',\n",
       " '/media/data_dump/hemant/rachit/dataset/downloaded_Data/librispeech/LibriSpeech/wav/train_clean_360-5731-50776-0014.wav,/media/data_dump/hemant/rachit/dataset/downloaded_Data/librispeech/LibriSpeech/txt/train_clean_360-5731-50776-0014.txt,F\\n',\n",
       " '/media/data_dump/hemant/rachit/dataset/downloaded_Data/librispeech/LibriSpeech/wav/train_clean_100-426-122821-0017.wav,/media/data_dump/hemant/rachit/dataset/downloaded_Data/librispeech/LibriSpeech/txt/train_clean_100-426-122821-0017.txt,F\\n',\n",
       " '/media/data_dump/hemant/rachit/dataset/downloaded_Data/librispeech/LibriSpeech/wav/train_clean_100-8468-286673-0017.wav,/media/data_dump/hemant/rachit/dataset/downloaded_Data/librispeech/LibriSpeech/txt/train_clean_100-8468-286673-0017.txt,F\\n',\n",
       " '/media/data_dump/hemant/rachit/dataset/downloaded_Data/librispeech/LibriSpeech/wav/train_other_500-4706-28494-0017.wav,/media/data_dump/hemant/rachit/dataset/downloaded_Data/librispeech/LibriSpeech/txt/train_other_500-4706-28494-0017.txt,F\\n',\n",
       " '/media/data_dump/hemant/rachit/dataset/downloaded_Data/librispeech/LibriSpeech/wav/train_other_500-1569-141082-0032.wav,/media/data_dump/hemant/rachit/dataset/downloaded_Data/librispeech/LibriSpeech/txt/train_other_500-1569-141082-0032.txt,F\\n',\n",
       " '/media/data_dump/hemant/rachit/dataset/downloaded_Data/librispeech/LibriSpeech/wav/train_other_500-1559-139353-0046.wav,/media/data_dump/hemant/rachit/dataset/downloaded_Data/librispeech/LibriSpeech/txt/train_other_500-1559-139353-0046.txt,M\\n',\n",
       " '/media/data_dump/hemant/rachit/dataset/downloaded_Data/librispeech/LibriSpeech/wav/train_other_500-3559-165413-0049.wav,/media/data_dump/hemant/rachit/dataset/downloaded_Data/librispeech/LibriSpeech/txt/train_other_500-3559-165413-0049.txt,F\\n',\n",
       " '/media/data_dump/hemant/rachit/dataset/downloaded_Data/librispeech/LibriSpeech/wav/train_other_500-5285-80687-0070.wav,/media/data_dump/hemant/rachit/dataset/downloaded_Data/librispeech/LibriSpeech/txt/train_other_500-5285-80687-0070.txt,F\\n',\n",
       " '/media/data_dump/hemant/rachit/dataset/downloaded_Data/librispeech/LibriSpeech/wav/train_other_500-6947-53262-0002.wav,/media/data_dump/hemant/rachit/dataset/downloaded_Data/librispeech/LibriSpeech/txt/train_other_500-6947-53262-0002.txt,F\\n',\n",
       " '/media/data_dump/hemant/rachit/dataset/downloaded_Data/librispeech/LibriSpeech/wav/train_other_500-3895-6855-0046.wav,/media/data_dump/hemant/rachit/dataset/downloaded_Data/librispeech/LibriSpeech/txt/train_other_500-3895-6855-0046.txt,M\\n',\n",
       " '/media/data_dump/hemant/rachit/dataset/downloaded_Data/librispeech/LibriSpeech/wav/train_other_500-2624-88360-0072.wav,/media/data_dump/hemant/rachit/dataset/downloaded_Data/librispeech/LibriSpeech/txt/train_other_500-2624-88360-0072.txt,M\\n',\n",
       " '/media/data_dump/hemant/rachit/dataset/downloaded_Data/librispeech/LibriSpeech/wav/train_other_500-6773-76039-0010.wav,/media/data_dump/hemant/rachit/dataset/downloaded_Data/librispeech/LibriSpeech/txt/train_other_500-6773-76039-0010.txt,M\\n',\n",
       " '/media/data_dump/hemant/rachit/dataset/downloaded_Data/librispeech/LibriSpeech/wav/train_clean_100-426-122819-0002.wav,/media/data_dump/hemant/rachit/dataset/downloaded_Data/librispeech/LibriSpeech/txt/train_clean_100-426-122819-0002.txt,F\\n',\n",
       " '/media/data_dump/hemant/rachit/dataset/downloaded_Data/librispeech/LibriSpeech/wav/train_other_500-4799-25949-0045.wav,/media/data_dump/hemant/rachit/dataset/downloaded_Data/librispeech/LibriSpeech/txt/train_other_500-4799-25949-0045.txt,M\\n',\n",
       " '/media/data_dump/hemant/rachit/dataset/downloaded_Data/librispeech/LibriSpeech/wav/train_other_500-253-124400-0044.wav,/media/data_dump/hemant/rachit/dataset/downloaded_Data/librispeech/LibriSpeech/txt/train_other_500-253-124400-0044.txt,M\\n',\n",
       " '/media/data_dump/hemant/rachit/dataset/downloaded_Data/librispeech/LibriSpeech/wav/train_clean_360-1290-135762-0068.wav,/media/data_dump/hemant/rachit/dataset/downloaded_Data/librispeech/LibriSpeech/txt/train_clean_360-1290-135762-0068.txt,F\\n',\n",
       " '/media/data_dump/hemant/rachit/dataset/downloaded_Data/librispeech/LibriSpeech/wav/train_clean_360-3224-168198-0029.wav,/media/data_dump/hemant/rachit/dataset/downloaded_Data/librispeech/LibriSpeech/txt/train_clean_360-3224-168198-0029.txt,F\\n',\n",
       " '/media/data_dump/hemant/rachit/dataset/downloaded_Data/librispeech/LibriSpeech/wav/train_clean_360-1313-136054-0011.wav,/media/data_dump/hemant/rachit/dataset/downloaded_Data/librispeech/LibriSpeech/txt/train_clean_360-1313-136054-0011.txt,M\\n',\n",
       " '/media/data_dump/hemant/rachit/dataset/downloaded_Data/librispeech/LibriSpeech/wav/train_clean_360-581-126955-0066.wav,/media/data_dump/hemant/rachit/dataset/downloaded_Data/librispeech/LibriSpeech/txt/train_clean_360-581-126955-0066.txt,M\\n',\n",
       " '/media/data_dump/hemant/rachit/dataset/downloaded_Data/librispeech/LibriSpeech/wav/train_clean_360-5401-39515-0017.wav,/media/data_dump/hemant/rachit/dataset/downloaded_Data/librispeech/LibriSpeech/txt/train_clean_360-5401-39515-0017.txt,M\\n',\n",
       " '/media/data_dump/hemant/rachit/dataset/downloaded_Data/librispeech/LibriSpeech/wav/train_other_500-2026-22756-0013.wav,/media/data_dump/hemant/rachit/dataset/downloaded_Data/librispeech/LibriSpeech/txt/train_other_500-2026-22756-0013.txt,F\\n',\n",
       " '/media/data_dump/hemant/rachit/dataset/downloaded_Data/librispeech/LibriSpeech/wav/train_clean_360-5968-61356-0031.wav,/media/data_dump/hemant/rachit/dataset/downloaded_Data/librispeech/LibriSpeech/txt/train_clean_360-5968-61356-0031.txt,F\\n',\n",
       " '/media/data_dump/hemant/rachit/dataset/downloaded_Data/librispeech/LibriSpeech/wav/train_other_500-3409-167623-0012.wav,/media/data_dump/hemant/rachit/dataset/downloaded_Data/librispeech/LibriSpeech/txt/train_other_500-3409-167623-0012.txt,F\\n',\n",
       " '/media/data_dump/hemant/rachit/dataset/downloaded_Data/librispeech/LibriSpeech/wav/train_other_500-4706-18009-0004.wav,/media/data_dump/hemant/rachit/dataset/downloaded_Data/librispeech/LibriSpeech/txt/train_other_500-4706-18009-0004.txt,F\\n',\n",
       " '/media/data_dump/hemant/rachit/dataset/downloaded_Data/librispeech/LibriSpeech/wav/train_other_500-4545-9166-0006.wav,/media/data_dump/hemant/rachit/dataset/downloaded_Data/librispeech/LibriSpeech/txt/train_other_500-4545-9166-0006.txt,M\\n',\n",
       " '/media/data_dump/hemant/rachit/dataset/downloaded_Data/librispeech/LibriSpeech/wav/train_clean_360-3521-175962-0018.wav,/media/data_dump/hemant/rachit/dataset/downloaded_Data/librispeech/LibriSpeech/txt/train_clean_360-3521-175962-0018.txt,M\\n',\n",
       " '/media/data_dump/hemant/rachit/dataset/downloaded_Data/librispeech/LibriSpeech/wav/train_clean_360-2573-178450-0022.wav,/media/data_dump/hemant/rachit/dataset/downloaded_Data/librispeech/LibriSpeech/txt/train_clean_360-2573-178450-0022.txt,F\\n',\n",
       " '/media/data_dump/hemant/rachit/dataset/downloaded_Data/librispeech/LibriSpeech/wav/train_clean_360-5115-26951-0008.wav,/media/data_dump/hemant/rachit/dataset/downloaded_Data/librispeech/LibriSpeech/txt/train_clean_360-5115-26951-0008.txt,F\\n',\n",
       " '/media/data_dump/hemant/rachit/dataset/downloaded_Data/librispeech/LibriSpeech/wav/train_clean_360-1241-137614-0026.wav,/media/data_dump/hemant/rachit/dataset/downloaded_Data/librispeech/LibriSpeech/txt/train_clean_360-1241-137614-0026.txt,F\\n',\n",
       " '/media/data_dump/hemant/rachit/dataset/downloaded_Data/librispeech/LibriSpeech/wav/train_clean_360-3923-174992-0003.wav,/media/data_dump/hemant/rachit/dataset/downloaded_Data/librispeech/LibriSpeech/txt/train_clean_360-3923-174992-0003.txt,M\\n',\n",
       " '/media/data_dump/hemant/rachit/dataset/downloaded_Data/librispeech/LibriSpeech/wav/train_clean_360-6206-14960-0034.wav,/media/data_dump/hemant/rachit/dataset/downloaded_Data/librispeech/LibriSpeech/txt/train_clean_360-6206-14960-0034.txt,F\\n',\n",
       " '/media/data_dump/hemant/rachit/dataset/downloaded_Data/librispeech/LibriSpeech/wav/train_clean_360-1472-139797-0011.wav,/media/data_dump/hemant/rachit/dataset/downloaded_Data/librispeech/LibriSpeech/txt/train_clean_360-1472-139797-0011.txt,F\\n',\n",
       " '/media/data_dump/hemant/rachit/dataset/downloaded_Data/librispeech/LibriSpeech/wav/train_other_500-6284-63091-0042.wav,/media/data_dump/hemant/rachit/dataset/downloaded_Data/librispeech/LibriSpeech/txt/train_other_500-6284-63091-0042.txt,F\\n',\n",
       " '/media/data_dump/hemant/rachit/dataset/downloaded_Data/librispeech/LibriSpeech/wav/train_other_500-8058-99402-0022.wav,/media/data_dump/hemant/rachit/dataset/downloaded_Data/librispeech/LibriSpeech/txt/train_other_500-8058-99402-0022.txt,M\\n',\n",
       " '/media/data_dump/hemant/rachit/dataset/downloaded_Data/librispeech/LibriSpeech/wav/train_other_500-8565-290398-0040.wav,/media/data_dump/hemant/rachit/dataset/downloaded_Data/librispeech/LibriSpeech/txt/train_other_500-8565-290398-0040.txt,M\\n',\n",
       " '/media/data_dump/hemant/rachit/dataset/downloaded_Data/librispeech/LibriSpeech/wav/train_clean_360-8776-270778-0028.wav,/media/data_dump/hemant/rachit/dataset/downloaded_Data/librispeech/LibriSpeech/txt/train_clean_360-8776-270778-0028.txt,F\\n',\n",
       " '/media/data_dump/hemant/rachit/dataset/downloaded_Data/librispeech/LibriSpeech/wav/train_other_500-3319-171003-0087.wav,/media/data_dump/hemant/rachit/dataset/downloaded_Data/librispeech/LibriSpeech/txt/train_other_500-3319-171003-0087.txt,F\\n',\n",
       " '/media/data_dump/hemant/rachit/dataset/downloaded_Data/librispeech/LibriSpeech/wav/train_other_500-5826-53497-0026.wav,/media/data_dump/hemant/rachit/dataset/downloaded_Data/librispeech/LibriSpeech/txt/train_other_500-5826-53497-0026.txt,M\\n',\n",
       " '/media/data_dump/hemant/rachit/dataset/downloaded_Data/librispeech/LibriSpeech/wav/train_clean_360-56-1732-0013.wav,/media/data_dump/hemant/rachit/dataset/downloaded_Data/librispeech/LibriSpeech/txt/train_clean_360-56-1732-0013.txt,F\\n',\n",
       " '/media/data_dump/hemant/rachit/dataset/downloaded_Data/librispeech/LibriSpeech/wav/train_clean_360-3551-7887-0038.wav,/media/data_dump/hemant/rachit/dataset/downloaded_Data/librispeech/LibriSpeech/txt/train_clean_360-3551-7887-0038.txt,F\\n',\n",
       " '/media/data_dump/hemant/rachit/dataset/downloaded_Data/librispeech/LibriSpeech/wav/train_clean_100-7264-92316-0011.wav,/media/data_dump/hemant/rachit/dataset/downloaded_Data/librispeech/LibriSpeech/txt/train_clean_100-7264-92316-0011.txt,M\\n',\n",
       " '/media/data_dump/hemant/rachit/dataset/downloaded_Data/librispeech/LibriSpeech/wav/train_clean_360-4138-11079-0080.wav,/media/data_dump/hemant/rachit/dataset/downloaded_Data/librispeech/LibriSpeech/txt/train_clean_360-4138-11079-0080.txt,F\\n',\n",
       " '/media/data_dump/hemant/rachit/dataset/downloaded_Data/librispeech/LibriSpeech/wav/train_other_500-3090-131878-0016.wav,/media/data_dump/hemant/rachit/dataset/downloaded_Data/librispeech/LibriSpeech/txt/train_other_500-3090-131878-0016.txt,F\\n',\n",
       " '/media/data_dump/hemant/rachit/dataset/downloaded_Data/librispeech/LibriSpeech/wav/train_clean_360-581-126955-0081.wav,/media/data_dump/hemant/rachit/dataset/downloaded_Data/librispeech/LibriSpeech/txt/train_clean_360-581-126955-0081.txt,M\\n',\n",
       " '/media/data_dump/hemant/rachit/dataset/downloaded_Data/librispeech/LibriSpeech/wav/train_clean_360-2060-150855-0015.wav,/media/data_dump/hemant/rachit/dataset/downloaded_Data/librispeech/LibriSpeech/txt/train_clean_360-2060-150855-0015.txt,F\\n',\n",
       " '/media/data_dump/hemant/rachit/dataset/downloaded_Data/librispeech/LibriSpeech/wav/train_other_500-5000-30597-0073.wav,/media/data_dump/hemant/rachit/dataset/downloaded_Data/librispeech/LibriSpeech/txt/train_other_500-5000-30597-0073.txt,F\\n',\n",
       " '/media/data_dump/hemant/rachit/dataset/downloaded_Data/librispeech/LibriSpeech/wav/train_clean_100-8419-286667-0005.wav,/media/data_dump/hemant/rachit/dataset/downloaded_Data/librispeech/LibriSpeech/txt/train_clean_100-8419-286667-0005.txt,M\\n',\n",
       " '/media/data_dump/hemant/rachit/dataset/downloaded_Data/librispeech/LibriSpeech/wav/train_other_500-6402-105212-0024.wav,/media/data_dump/hemant/rachit/dataset/downloaded_Data/librispeech/LibriSpeech/txt/train_other_500-6402-105212-0024.txt,M\\n',\n",
       " '/media/data_dump/hemant/rachit/dataset/downloaded_Data/librispeech/LibriSpeech/wav/train_other_500-614-161065-0034.wav,/media/data_dump/hemant/rachit/dataset/downloaded_Data/librispeech/LibriSpeech/txt/train_other_500-614-161065-0034.txt,F\\n',\n",
       " '/media/data_dump/hemant/rachit/dataset/downloaded_Data/librispeech/LibriSpeech/wav/train_clean_360-2628-153958-0042.wav,/media/data_dump/hemant/rachit/dataset/downloaded_Data/librispeech/LibriSpeech/txt/train_clean_360-2628-153958-0042.txt,M\\n',\n",
       " '/media/data_dump/hemant/rachit/dataset/downloaded_Data/librispeech/LibriSpeech/wav/train_clean_360-3347-134425-0022.wav,/media/data_dump/hemant/rachit/dataset/downloaded_Data/librispeech/LibriSpeech/txt/train_clean_360-3347-134425-0022.txt,F\\n',\n",
       " '/media/data_dump/hemant/rachit/dataset/downloaded_Data/librispeech/LibriSpeech/wav/train_clean_360-5868-66166-0019.wav,/media/data_dump/hemant/rachit/dataset/downloaded_Data/librispeech/LibriSpeech/txt/train_clean_360-5868-66166-0019.txt,M\\n',\n",
       " '/media/data_dump/hemant/rachit/dataset/downloaded_Data/librispeech/LibriSpeech/wav/train_clean_360-1425-139290-0009.wav,/media/data_dump/hemant/rachit/dataset/downloaded_Data/librispeech/LibriSpeech/txt/train_clean_360-1425-139290-0009.txt,F\\n',\n",
       " '/media/data_dump/hemant/rachit/dataset/downloaded_Data/librispeech/LibriSpeech/wav/train_other_500-6138-93188-0036.wav,/media/data_dump/hemant/rachit/dataset/downloaded_Data/librispeech/LibriSpeech/txt/train_other_500-6138-93188-0036.txt,F\\n',\n",
       " '/media/data_dump/hemant/rachit/dataset/downloaded_Data/librispeech/LibriSpeech/wav/train_clean_360-4731-95875-0010.wav,/media/data_dump/hemant/rachit/dataset/downloaded_Data/librispeech/LibriSpeech/txt/train_clean_360-4731-95875-0010.txt,F\\n',\n",
       " '/media/data_dump/hemant/rachit/dataset/downloaded_Data/librispeech/LibriSpeech/wav/train_clean_360-2674-155968-0103.wav,/media/data_dump/hemant/rachit/dataset/downloaded_Data/librispeech/LibriSpeech/txt/train_clean_360-2674-155968-0103.txt,M\\n',\n",
       " '/media/data_dump/hemant/rachit/dataset/downloaded_Data/librispeech/LibriSpeech/wav/train_clean_360-2272-152264-0015.wav,/media/data_dump/hemant/rachit/dataset/downloaded_Data/librispeech/LibriSpeech/txt/train_clean_360-2272-152264-0015.txt,M\\n',\n",
       " '/media/data_dump/hemant/rachit/dataset/downloaded_Data/librispeech/LibriSpeech/wav/train_other_500-4791-25379-0059.wav,/media/data_dump/hemant/rachit/dataset/downloaded_Data/librispeech/LibriSpeech/txt/train_other_500-4791-25379-0059.txt,F\\n',\n",
       " '/media/data_dump/hemant/rachit/dataset/downloaded_Data/librispeech/LibriSpeech/wav/train_clean_100-89-219-0014.wav,/media/data_dump/hemant/rachit/dataset/downloaded_Data/librispeech/LibriSpeech/txt/train_clean_100-89-219-0014.txt,F\\n',\n",
       " '/media/data_dump/hemant/rachit/dataset/downloaded_Data/librispeech/LibriSpeech/wav/train_clean_100-7264-92314-0013.wav,/media/data_dump/hemant/rachit/dataset/downloaded_Data/librispeech/LibriSpeech/txt/train_clean_100-7264-92314-0013.txt,M\\n',\n",
       " '/media/data_dump/hemant/rachit/dataset/downloaded_Data/librispeech/LibriSpeech/wav/train_other_500-5269-26555-0009.wav,/media/data_dump/hemant/rachit/dataset/downloaded_Data/librispeech/LibriSpeech/txt/train_other_500-5269-26555-0009.txt,F\\n',\n",
       " '/media/data_dump/hemant/rachit/dataset/downloaded_Data/librispeech/LibriSpeech/wav/train_clean_360-2598-4654-0032.wav,/media/data_dump/hemant/rachit/dataset/downloaded_Data/librispeech/LibriSpeech/txt/train_clean_360-2598-4654-0032.txt,F\\n',\n",
       " '/media/data_dump/hemant/rachit/dataset/downloaded_Data/librispeech/LibriSpeech/wav/train_clean_360-7445-94522-0010.wav,/media/data_dump/hemant/rachit/dataset/downloaded_Data/librispeech/LibriSpeech/txt/train_clean_360-7445-94522-0010.txt,F\\n',\n",
       " '/media/data_dump/hemant/rachit/dataset/downloaded_Data/librispeech/LibriSpeech/wav/train_other_500-2730-154436-0065.wav,/media/data_dump/hemant/rachit/dataset/downloaded_Data/librispeech/LibriSpeech/txt/train_other_500-2730-154436-0065.txt,F\\n',\n",
       " '/media/data_dump/hemant/rachit/dataset/downloaded_Data/librispeech/LibriSpeech/wav/train_other_500-1664-137600-0008.wav,/media/data_dump/hemant/rachit/dataset/downloaded_Data/librispeech/LibriSpeech/txt/train_other_500-1664-137600-0008.txt,F\\n',\n",
       " '/media/data_dump/hemant/rachit/dataset/downloaded_Data/librispeech/LibriSpeech/wav/train_other_500-8042-113769-0003.wav,/media/data_dump/hemant/rachit/dataset/downloaded_Data/librispeech/LibriSpeech/txt/train_other_500-8042-113769-0003.txt,M\\n',\n",
       " '/media/data_dump/hemant/rachit/dataset/downloaded_Data/librispeech/LibriSpeech/wav/train_other_500-5628-47241-0016.wav,/media/data_dump/hemant/rachit/dataset/downloaded_Data/librispeech/LibriSpeech/txt/train_other_500-5628-47241-0016.txt,M\\n',\n",
       " '/media/data_dump/hemant/rachit/dataset/downloaded_Data/librispeech/LibriSpeech/wav/train_clean_360-3546-9321-0005.wav,/media/data_dump/hemant/rachit/dataset/downloaded_Data/librispeech/LibriSpeech/txt/train_clean_360-3546-9321-0005.txt,F\\n',\n",
       " '/media/data_dump/hemant/rachit/dataset/downloaded_Data/librispeech/LibriSpeech/wav/train_clean_360-5115-26950-0003.wav,/media/data_dump/hemant/rachit/dataset/downloaded_Data/librispeech/LibriSpeech/txt/train_clean_360-5115-26950-0003.txt,F\\n',\n",
       " '/media/data_dump/hemant/rachit/dataset/downloaded_Data/librispeech/LibriSpeech/wav/train_clean_360-1401-174511-0014.wav,/media/data_dump/hemant/rachit/dataset/downloaded_Data/librispeech/LibriSpeech/txt/train_clean_360-1401-174511-0014.txt,F\\n',\n",
       " '/media/data_dump/hemant/rachit/dataset/downloaded_Data/librispeech/LibriSpeech/wav/train_clean_360-5635-53458-0034.wav,/media/data_dump/hemant/rachit/dataset/downloaded_Data/librispeech/LibriSpeech/txt/train_clean_360-5635-53458-0034.txt,M\\n',\n",
       " '/media/data_dump/hemant/rachit/dataset/downloaded_Data/librispeech/LibriSpeech/wav/train_other_500-3272-167426-0065.wav,/media/data_dump/hemant/rachit/dataset/downloaded_Data/librispeech/LibriSpeech/txt/train_other_500-3272-167426-0065.txt,M\\n',\n",
       " '/media/data_dump/hemant/rachit/dataset/downloaded_Data/librispeech/LibriSpeech/wav/train_other_500-8215-117570-0009.wav,/media/data_dump/hemant/rachit/dataset/downloaded_Data/librispeech/LibriSpeech/txt/train_other_500-8215-117570-0009.txt,M\\n',\n",
       " '/media/data_dump/hemant/rachit/dataset/downloaded_Data/librispeech/LibriSpeech/wav/train_other_500-5141-26943-0016.wav,/media/data_dump/hemant/rachit/dataset/downloaded_Data/librispeech/LibriSpeech/txt/train_other_500-5141-26943-0016.txt,M\\n',\n",
       " '/media/data_dump/hemant/rachit/dataset/downloaded_Data/librispeech/LibriSpeech/wav/train_clean_360-1052-132776-0019.wav,/media/data_dump/hemant/rachit/dataset/downloaded_Data/librispeech/LibriSpeech/txt/train_clean_360-1052-132776-0019.txt,F\\n',\n",
       " '/media/data_dump/hemant/rachit/dataset/downloaded_Data/librispeech/LibriSpeech/wav/train_other_500-7265-74923-0054.wav,/media/data_dump/hemant/rachit/dataset/downloaded_Data/librispeech/LibriSpeech/txt/train_other_500-7265-74923-0054.txt,F\\n',\n",
       " '/media/data_dump/hemant/rachit/dataset/downloaded_Data/librispeech/LibriSpeech/wav/train_clean_360-2368-157056-0013.wav,/media/data_dump/hemant/rachit/dataset/downloaded_Data/librispeech/LibriSpeech/txt/train_clean_360-2368-157056-0013.txt,M\\n',\n",
       " '/media/data_dump/hemant/rachit/dataset/downloaded_Data/librispeech/LibriSpeech/wav/train_clean_360-2992-164101-0045.wav,/media/data_dump/hemant/rachit/dataset/downloaded_Data/librispeech/LibriSpeech/txt/train_clean_360-2992-164101-0045.txt,M\\n',\n",
       " '/media/data_dump/hemant/rachit/dataset/downloaded_Data/librispeech/LibriSpeech/wav/train_other_500-3090-164191-0004.wav,/media/data_dump/hemant/rachit/dataset/downloaded_Data/librispeech/LibriSpeech/txt/train_other_500-3090-164191-0004.txt,F\\n',\n",
       " '/media/data_dump/hemant/rachit/dataset/downloaded_Data/librispeech/LibriSpeech/wav/train_clean_100-4014-186179-0032.wav,/media/data_dump/hemant/rachit/dataset/downloaded_Data/librispeech/LibriSpeech/txt/train_clean_100-4014-186179-0032.txt,M\\n',\n",
       " '/media/data_dump/hemant/rachit/dataset/downloaded_Data/librispeech/LibriSpeech/wav/train_clean_100-6000-55211-0052.wav,/media/data_dump/hemant/rachit/dataset/downloaded_Data/librispeech/LibriSpeech/txt/train_clean_100-6000-55211-0052.txt,F\\n',\n",
       " '/media/data_dump/hemant/rachit/dataset/downloaded_Data/librispeech/LibriSpeech/wav/train_clean_360-207-131203-0017.wav,/media/data_dump/hemant/rachit/dataset/downloaded_Data/librispeech/LibriSpeech/txt/train_clean_360-207-131203-0017.txt,M\\n',\n",
       " '/media/data_dump/hemant/rachit/dataset/downloaded_Data/librispeech/LibriSpeech/wav/train_clean_360-258-121528-0005.wav,/media/data_dump/hemant/rachit/dataset/downloaded_Data/librispeech/LibriSpeech/txt/train_clean_360-258-121528-0005.txt,M\\n',\n",
       " '/media/data_dump/hemant/rachit/dataset/downloaded_Data/librispeech/LibriSpeech/wav/train_other_500-2046-141204-0072.wav,/media/data_dump/hemant/rachit/dataset/downloaded_Data/librispeech/LibriSpeech/txt/train_other_500-2046-141204-0072.txt,M\\n',\n",
       " '/media/data_dump/hemant/rachit/dataset/downloaded_Data/librispeech/LibriSpeech/wav/train_other_500-1646-121409-0023.wav,/media/data_dump/hemant/rachit/dataset/downloaded_Data/librispeech/LibriSpeech/txt/train_other_500-1646-121409-0023.txt,M\\n',\n",
       " '/media/data_dump/hemant/rachit/dataset/downloaded_Data/librispeech/LibriSpeech/wav/train_clean_360-3082-165428-0042.wav,/media/data_dump/hemant/rachit/dataset/downloaded_Data/librispeech/LibriSpeech/txt/train_clean_360-3082-165428-0042.txt,M\\n',\n",
       " '/media/data_dump/hemant/rachit/dataset/downloaded_Data/librispeech/LibriSpeech/wav/train_clean_360-3228-4687-0011.wav,/media/data_dump/hemant/rachit/dataset/downloaded_Data/librispeech/LibriSpeech/txt/train_clean_360-3228-4687-0011.txt,F\\n',\n",
       " '/media/data_dump/hemant/rachit/dataset/downloaded_Data/librispeech/LibriSpeech/wav/train_clean_360-6378-61780-0018.wav,/media/data_dump/hemant/rachit/dataset/downloaded_Data/librispeech/LibriSpeech/txt/train_clean_360-6378-61780-0018.txt,F\\n',\n",
       " '/media/data_dump/hemant/rachit/dataset/downloaded_Data/librispeech/LibriSpeech/wav/train_clean_360-4257-6397-0039.wav,/media/data_dump/hemant/rachit/dataset/downloaded_Data/librispeech/LibriSpeech/txt/train_clean_360-4257-6397-0039.txt,M\\n',\n",
       " '/media/data_dump/hemant/rachit/dataset/downloaded_Data/librispeech/LibriSpeech/wav/train_clean_360-2618-138042-0089.wav,/media/data_dump/hemant/rachit/dataset/downloaded_Data/librispeech/LibriSpeech/txt/train_clean_360-2618-138042-0089.txt,M\\n',\n",
       " '/media/data_dump/hemant/rachit/dataset/downloaded_Data/librispeech/LibriSpeech/wav/train_clean_360-5606-54667-0027.wav,/media/data_dump/hemant/rachit/dataset/downloaded_Data/librispeech/LibriSpeech/txt/train_clean_360-5606-54667-0027.txt,F\\n',\n",
       " '/media/data_dump/hemant/rachit/dataset/downloaded_Data/librispeech/LibriSpeech/wav/train_clean_100-4406-16882-0021.wav,/media/data_dump/hemant/rachit/dataset/downloaded_Data/librispeech/LibriSpeech/txt/train_clean_100-4406-16882-0021.txt,M\\n',\n",
       " '/media/data_dump/hemant/rachit/dataset/downloaded_Data/librispeech/LibriSpeech/wav/train_other_500-6351-64714-0070.wav,/media/data_dump/hemant/rachit/dataset/downloaded_Data/librispeech/LibriSpeech/txt/train_other_500-6351-64714-0070.txt,F\\n',\n",
       " '/media/data_dump/hemant/rachit/dataset/downloaded_Data/librispeech/LibriSpeech/wav/train_clean_360-6188-78885-0042.wav,/media/data_dump/hemant/rachit/dataset/downloaded_Data/librispeech/LibriSpeech/txt/train_clean_360-6188-78885-0042.txt,F\\n',\n",
       " '/media/data_dump/hemant/rachit/dataset/downloaded_Data/librispeech/LibriSpeech/wav/train_other_500-5781-52134-0035.wav,/media/data_dump/hemant/rachit/dataset/downloaded_Data/librispeech/LibriSpeech/txt/train_other_500-5781-52134-0035.txt,M\\n',\n",
       " '/media/data_dump/hemant/rachit/dataset/downloaded_Data/librispeech/LibriSpeech/wav/train_other_500-608-123154-0048.wav,/media/data_dump/hemant/rachit/dataset/downloaded_Data/librispeech/LibriSpeech/txt/train_other_500-608-123154-0048.txt,F\\n',\n",
       " '/media/data_dump/hemant/rachit/dataset/downloaded_Data/librispeech/LibriSpeech/wav/train_clean_360-3923-153309-0006.wav,/media/data_dump/hemant/rachit/dataset/downloaded_Data/librispeech/LibriSpeech/txt/train_clean_360-3923-153309-0006.txt,M\\n',\n",
       " '/media/data_dump/hemant/rachit/dataset/downloaded_Data/librispeech/LibriSpeech/wav/train_clean_360-4806-26895-0029.wav,/media/data_dump/hemant/rachit/dataset/downloaded_Data/librispeech/LibriSpeech/txt/train_clean_360-4806-26895-0029.txt,M\\n',\n",
       " '/media/data_dump/hemant/rachit/dataset/downloaded_Data/librispeech/LibriSpeech/wav/train_other_500-7026-86943-0000.wav,/media/data_dump/hemant/rachit/dataset/downloaded_Data/librispeech/LibriSpeech/txt/train_other_500-7026-86943-0000.txt,F\\n',\n",
       " '/media/data_dump/hemant/rachit/dataset/downloaded_Data/librispeech/LibriSpeech/wav/train_clean_100-298-126790-0023.wav,/media/data_dump/hemant/rachit/dataset/downloaded_Data/librispeech/LibriSpeech/txt/train_clean_100-298-126790-0023.txt,F\\n',\n",
       " '/media/data_dump/hemant/rachit/dataset/downloaded_Data/librispeech/LibriSpeech/wav/train_clean_100-5463-39174-0041.wav,/media/data_dump/hemant/rachit/dataset/downloaded_Data/librispeech/LibriSpeech/txt/train_clean_100-5463-39174-0041.txt,M\\n',\n",
       " '/media/data_dump/hemant/rachit/dataset/downloaded_Data/librispeech/LibriSpeech/wav/train_other_500-5952-54019-0020.wav,/media/data_dump/hemant/rachit/dataset/downloaded_Data/librispeech/LibriSpeech/txt/train_other_500-5952-54019-0020.txt,F\\n',\n",
       " '/media/data_dump/hemant/rachit/dataset/downloaded_Data/librispeech/LibriSpeech/wav/train_other_500-5471-280362-0014.wav,/media/data_dump/hemant/rachit/dataset/downloaded_Data/librispeech/LibriSpeech/txt/train_other_500-5471-280362-0014.txt,F\\n',\n",
       " '/media/data_dump/hemant/rachit/dataset/downloaded_Data/librispeech/LibriSpeech/wav/train_clean_360-8875-293959-0012.wav,/media/data_dump/hemant/rachit/dataset/downloaded_Data/librispeech/LibriSpeech/txt/train_clean_360-8875-293959-0012.txt,M\\n',\n",
       " '/media/data_dump/hemant/rachit/dataset/downloaded_Data/librispeech/LibriSpeech/wav/train_clean_100-5339-14134-0059.wav,/media/data_dump/hemant/rachit/dataset/downloaded_Data/librispeech/LibriSpeech/txt/train_clean_100-5339-14134-0059.txt,F\\n',\n",
       " '/media/data_dump/hemant/rachit/dataset/downloaded_Data/librispeech/LibriSpeech/wav/train_other_500-2351-151965-0018.wav,/media/data_dump/hemant/rachit/dataset/downloaded_Data/librispeech/LibriSpeech/txt/train_other_500-2351-151965-0018.txt,F\\n',\n",
       " '/media/data_dump/hemant/rachit/dataset/downloaded_Data/librispeech/LibriSpeech/wav/train_clean_360-409-124990-0099.wav,/media/data_dump/hemant/rachit/dataset/downloaded_Data/librispeech/LibriSpeech/txt/train_clean_360-409-124990-0099.txt,M\\n',\n",
       " '/media/data_dump/hemant/rachit/dataset/downloaded_Data/librispeech/LibriSpeech/wav/train_other_500-1051-133886-0034.wav,/media/data_dump/hemant/rachit/dataset/downloaded_Data/librispeech/LibriSpeech/txt/train_other_500-1051-133886-0034.txt,F\\n',\n",
       " '/media/data_dump/hemant/rachit/dataset/downloaded_Data/librispeech/LibriSpeech/wav/train_clean_360-1649-150127-0016.wav,/media/data_dump/hemant/rachit/dataset/downloaded_Data/librispeech/LibriSpeech/txt/train_clean_360-1649-150127-0016.txt,F\\n',\n",
       " '/media/data_dump/hemant/rachit/dataset/downloaded_Data/librispeech/LibriSpeech/wav/train_clean_360-1283-129808-0047.wav,/media/data_dump/hemant/rachit/dataset/downloaded_Data/librispeech/LibriSpeech/txt/train_clean_360-1283-129808-0047.txt,M\\n',\n",
       " '/media/data_dump/hemant/rachit/dataset/downloaded_Data/librispeech/LibriSpeech/wav/train_clean_360-636-128331-0018.wav,/media/data_dump/hemant/rachit/dataset/downloaded_Data/librispeech/LibriSpeech/txt/train_clean_360-636-128331-0018.txt,F\\n',\n",
       " '/media/data_dump/hemant/rachit/dataset/downloaded_Data/librispeech/LibriSpeech/wav/train_other_500-1664-122623-0004.wav,/media/data_dump/hemant/rachit/dataset/downloaded_Data/librispeech/LibriSpeech/txt/train_other_500-1664-122623-0004.txt,F\\n',\n",
       " '/media/data_dump/hemant/rachit/dataset/downloaded_Data/librispeech/LibriSpeech/wav/train_clean_360-5968-61356-0005.wav,/media/data_dump/hemant/rachit/dataset/downloaded_Data/librispeech/LibriSpeech/txt/train_clean_360-5968-61356-0005.txt,F\\n',\n",
       " '/media/data_dump/hemant/rachit/dataset/downloaded_Data/librispeech/LibriSpeech/wav/train_clean_360-6904-262291-0022.wav,/media/data_dump/hemant/rachit/dataset/downloaded_Data/librispeech/LibriSpeech/txt/train_clean_360-6904-262291-0022.txt,F\\n',\n",
       " '/media/data_dump/hemant/rachit/dataset/downloaded_Data/librispeech/LibriSpeech/wav/train_clean_360-2127-138047-0092.wav,/media/data_dump/hemant/rachit/dataset/downloaded_Data/librispeech/LibriSpeech/txt/train_clean_360-2127-138047-0092.txt,M\\n',\n",
       " '/media/data_dump/hemant/rachit/dataset/downloaded_Data/librispeech/LibriSpeech/wav/train_other_500-3925-57460-0033.wav,/media/data_dump/hemant/rachit/dataset/downloaded_Data/librispeech/LibriSpeech/txt/train_other_500-3925-57460-0033.txt,F\\n',\n",
       " '/media/data_dump/hemant/rachit/dataset/downloaded_Data/librispeech/LibriSpeech/wav/train_clean_360-8118-114469-0025.wav,/media/data_dump/hemant/rachit/dataset/downloaded_Data/librispeech/LibriSpeech/txt/train_clean_360-8118-114469-0025.txt,F\\n',\n",
       " '/media/data_dump/hemant/rachit/dataset/downloaded_Data/librispeech/LibriSpeech/wav/train_other_500-47-122796-0123.wav,/media/data_dump/hemant/rachit/dataset/downloaded_Data/librispeech/LibriSpeech/txt/train_other_500-47-122796-0123.txt,F\\n',\n",
       " '/media/data_dump/hemant/rachit/dataset/downloaded_Data/librispeech/LibriSpeech/wav/train_clean_360-1536-141791-0005.wav,/media/data_dump/hemant/rachit/dataset/downloaded_Data/librispeech/LibriSpeech/txt/train_clean_360-1536-141791-0005.txt,M\\n',\n",
       " '/media/data_dump/hemant/rachit/dataset/downloaded_Data/librispeech/LibriSpeech/wav/train_clean_360-5746-48362-0064.wav,/media/data_dump/hemant/rachit/dataset/downloaded_Data/librispeech/LibriSpeech/txt/train_clean_360-5746-48362-0064.txt,M\\n',\n",
       " '/media/data_dump/hemant/rachit/dataset/downloaded_Data/librispeech/LibriSpeech/wav/train_other_500-4583-16044-0028.wav,/media/data_dump/hemant/rachit/dataset/downloaded_Data/librispeech/LibriSpeech/txt/train_other_500-4583-16044-0028.txt,M\\n',\n",
       " '/media/data_dump/hemant/rachit/dataset/downloaded_Data/librispeech/LibriSpeech/wav/train_clean_360-6258-49755-0079.wav,/media/data_dump/hemant/rachit/dataset/downloaded_Data/librispeech/LibriSpeech/txt/train_clean_360-6258-49755-0079.txt,M\\n',\n",
       " '/media/data_dump/hemant/rachit/dataset/downloaded_Data/librispeech/LibriSpeech/wav/train_other_500-6159-50456-0023.wav,/media/data_dump/hemant/rachit/dataset/downloaded_Data/librispeech/LibriSpeech/txt/train_other_500-6159-50456-0023.txt,M\\n',\n",
       " '/media/data_dump/hemant/rachit/dataset/downloaded_Data/librispeech/LibriSpeech/wav/train_clean_360-8459-285173-0032.wav,/media/data_dump/hemant/rachit/dataset/downloaded_Data/librispeech/LibriSpeech/txt/train_clean_360-8459-285173-0032.txt,M\\n',\n",
       " '/media/data_dump/hemant/rachit/dataset/downloaded_Data/librispeech/LibriSpeech/wav/train_other_500-4193-48173-0028.wav,/media/data_dump/hemant/rachit/dataset/downloaded_Data/librispeech/LibriSpeech/txt/train_other_500-4193-48173-0028.txt,M\\n',\n",
       " '/media/data_dump/hemant/rachit/dataset/downloaded_Data/librispeech/LibriSpeech/wav/train_clean_360-7398-98880-0025.wav,/media/data_dump/hemant/rachit/dataset/downloaded_Data/librispeech/LibriSpeech/txt/train_clean_360-7398-98880-0025.txt,F\\n',\n",
       " '/media/data_dump/hemant/rachit/dataset/downloaded_Data/librispeech/LibriSpeech/wav/train_clean_100-2836-5354-0020.wav,/media/data_dump/hemant/rachit/dataset/downloaded_Data/librispeech/LibriSpeech/txt/train_clean_100-2836-5354-0020.txt,F\\n',\n",
       " '/media/data_dump/hemant/rachit/dataset/downloaded_Data/librispeech/LibriSpeech/wav/train_clean_360-1322-137589-0055.wav,/media/data_dump/hemant/rachit/dataset/downloaded_Data/librispeech/LibriSpeech/txt/train_clean_360-1322-137589-0055.txt,M\\n',\n",
       " '/media/data_dump/hemant/rachit/dataset/downloaded_Data/librispeech/LibriSpeech/wav/train_other_500-4660-25053-0004.wav,/media/data_dump/hemant/rachit/dataset/downloaded_Data/librispeech/LibriSpeech/txt/train_other_500-4660-25053-0004.txt,F\\n',\n",
       " '/media/data_dump/hemant/rachit/dataset/downloaded_Data/librispeech/LibriSpeech/wav/train_other_500-8321-274737-0038.wav,/media/data_dump/hemant/rachit/dataset/downloaded_Data/librispeech/LibriSpeech/txt/train_other_500-8321-274737-0038.txt,F\\n',\n",
       " '/media/data_dump/hemant/rachit/dataset/downloaded_Data/librispeech/LibriSpeech/wav/train_other_500-6660-103647-0007.wav,/media/data_dump/hemant/rachit/dataset/downloaded_Data/librispeech/LibriSpeech/txt/train_other_500-6660-103647-0007.txt,F\\n',\n",
       " '/media/data_dump/hemant/rachit/dataset/downloaded_Data/librispeech/LibriSpeech/wav/train_other_500-6281-1315-0016.wav,/media/data_dump/hemant/rachit/dataset/downloaded_Data/librispeech/LibriSpeech/txt/train_other_500-6281-1315-0016.txt,F\\n',\n",
       " '/media/data_dump/hemant/rachit/dataset/downloaded_Data/librispeech/LibriSpeech/wav/train_other_500-8625-268295-0030.wav,/media/data_dump/hemant/rachit/dataset/downloaded_Data/librispeech/LibriSpeech/txt/train_other_500-8625-268295-0030.txt,F\\n',\n",
       " '/media/data_dump/hemant/rachit/dataset/downloaded_Data/librispeech/LibriSpeech/wav/train_clean_360-6006-60480-0014.wav,/media/data_dump/hemant/rachit/dataset/downloaded_Data/librispeech/LibriSpeech/txt/train_clean_360-6006-60480-0014.txt,F\\n',\n",
       " '/media/data_dump/hemant/rachit/dataset/downloaded_Data/librispeech/LibriSpeech/wav/train_other_500-47-122796-0132.wav,/media/data_dump/hemant/rachit/dataset/downloaded_Data/librispeech/LibriSpeech/txt/train_other_500-47-122796-0132.txt,F\\n']"
      ]
     },
     "execution_count": 32,
     "metadata": {},
     "output_type": "execute_result"
    }
   ],
   "source": [
    "e"
   ]
  },
  {
   "cell_type": "code",
   "execution_count": null,
   "id": "accepting-breakdown",
   "metadata": {},
   "outputs": [],
   "source": []
  },
  {
   "cell_type": "code",
   "execution_count": null,
   "id": "fatty-belly",
   "metadata": {},
   "outputs": [],
   "source": [
    "de = []\n",
    "for i in range(len(a)):\n",
    "    de.append(int(a[i].split('_')[0]) )"
   ]
  },
  {
   "cell_type": "code",
   "execution_count": 3,
   "id": "decreased-senegal",
   "metadata": {},
   "outputs": [],
   "source": [
    "from tqdm.auto import tqdm"
   ]
  },
  {
   "cell_type": "code",
   "execution_count": 6,
   "id": "precious-migration",
   "metadata": {},
   "outputs": [
    {
     "data": {
      "text/plain": [
       "'/media/data_dump/hemant/rachit/dataset/downloaded_Data/librispeech/LibriSpeech/wav/train_other_500-3033-130750-0096.wav,/media/data_dump/hemant/rachit/dataset/downloaded_Data/librispeech/LibriSpeech/txt/train_other_500-3033-130750-0096.txt,F\\n'"
      ]
     },
     "execution_count": 6,
     "metadata": {},
     "output_type": "execute_result"
    }
   ],
   "source": [
    "a[0]"
   ]
  },
  {
   "cell_type": "code",
   "execution_count": 12,
   "id": "threatened-evening",
   "metadata": {},
   "outputs": [],
   "source": [
    "f = [i.strip() for i in a]"
   ]
  },
  {
   "cell_type": "code",
   "execution_count": 13,
   "id": "decent-austria",
   "metadata": {},
   "outputs": [
    {
     "data": {
      "text/plain": [
       "'/media/data_dump/hemant/rachit/dataset/downloaded_Data/librispeech/LibriSpeech/wav/train_other_500-3033-130750-0096.wav,/media/data_dump/hemant/rachit/dataset/downloaded_Data/librispeech/LibriSpeech/txt/train_other_500-3033-130750-0096.txt,F'"
      ]
     },
     "execution_count": 13,
     "metadata": {},
     "output_type": "execute_result"
    }
   ],
   "source": [
    "f[0]"
   ]
  },
  {
   "cell_type": "code",
   "execution_count": 21,
   "id": "considerable-ghost",
   "metadata": {},
   "outputs": [
    {
     "data": {
      "text/plain": [
       "(280283, 102918, 280283)"
      ]
     },
     "execution_count": 21,
     "metadata": {},
     "output_type": "execute_result"
    }
   ],
   "source": [
    "len(f), len(mf), len(a)"
   ]
  },
  {
   "cell_type": "code",
   "execution_count": 36,
   "id": "arbitrary-coffee",
   "metadata": {},
   "outputs": [
    {
     "data": {
      "application/vnd.jupyter.widget-view+json": {
       "model_id": "99a44ba9cef94d2ca0b450f9d86cb488",
       "version_major": 2,
       "version_minor": 0
      },
      "text/plain": [
       "  0%|          | 0/102918 [00:00<?, ?it/s]"
      ]
     },
     "metadata": {},
     "output_type": "display_data"
    }
   ],
   "source": [
    "m = ''\n",
    "x = [i for i in tqdm(mf) if i not in set(e)]\n",
    "# for i in tqdm(mf):\n",
    "#     if i in set(f): m += i"
   ]
  },
  {
   "cell_type": "code",
   "execution_count": 37,
   "id": "according-prime",
   "metadata": {},
   "outputs": [
    {
     "data": {
      "text/plain": [
       "102768"
      ]
     },
     "execution_count": 37,
     "metadata": {},
     "output_type": "execute_result"
    }
   ],
   "source": [
    "len(x)"
   ]
  },
  {
   "cell_type": "code",
   "execution_count": 39,
   "id": "downtown-ownership",
   "metadata": {},
   "outputs": [],
   "source": [
    "m = ''\n",
    "for i in x:\n",
    "    m+=i"
   ]
  },
  {
   "cell_type": "code",
   "execution_count": 40,
   "id": "quick-courtesy",
   "metadata": {},
   "outputs": [
    {
     "name": "stderr",
     "output_type": "stream",
     "text": [
      "IOPub data rate exceeded.\n",
      "The notebook server will temporarily stop sending output\n",
      "to the client in order to avoid crashing it.\n",
      "To change this limit, set the config variable\n",
      "`--NotebookApp.iopub_data_rate_limit`.\n",
      "\n",
      "Current values:\n",
      "NotebookApp.iopub_data_rate_limit=1000000.0 (bytes/sec)\n",
      "NotebookApp.rate_limit_window=3.0 (secs)\n",
      "\n"
     ]
    }
   ],
   "source": [
    "print(m)"
   ]
  },
  {
   "cell_type": "code",
   "execution_count": 41,
   "id": "confused-primary",
   "metadata": {},
   "outputs": [],
   "source": [
    "with open(\"/media/data_dump/hemant/hemant/v2_asr/Robust_ASR/new_train_m_f.csv\", \"w\") as f:\n",
    "    f.write(m\n",
    "           )"
   ]
  },
  {
   "cell_type": "code",
   "execution_count": null,
   "id": "excess-halloween",
   "metadata": {},
   "outputs": [],
   "source": [
    "train_other_500-47-122796-0132.wav"
   ]
  }
 ],
 "metadata": {
  "kernelspec": {
   "display_name": "Python 3",
   "language": "python",
   "name": "python3"
  },
  "language_info": {
   "codemirror_mode": {
    "name": "ipython",
    "version": 3
   },
   "file_extension": ".py",
   "mimetype": "text/x-python",
   "name": "python",
   "nbconvert_exporter": "python",
   "pygments_lexer": "ipython3",
   "version": "3.8.8"
  }
 },
 "nbformat": 4,
 "nbformat_minor": 5
}
