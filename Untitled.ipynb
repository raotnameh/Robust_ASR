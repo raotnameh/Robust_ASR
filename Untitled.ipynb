{
 "cells": [
  {
   "cell_type": "code",
   "execution_count": 2,
   "id": "green-security",
   "metadata": {},
   "outputs": [],
   "source": [
    "import torch"
   ]
  },
  {
   "cell_type": "code",
   "execution_count": 3,
   "id": "mental-dinner",
   "metadata": {},
   "outputs": [],
   "source": [
    "new = torch.load(\"enus_40/hor/models/ckpt_1_12.pth\", map_location=\"cpu\")['models']"
   ]
  },
  {
   "cell_type": "code",
   "execution_count": 4,
   "id": "social-classroom",
   "metadata": {},
   "outputs": [],
   "source": [
    "old = torch.load(\"enus_40/asr_libri_M_F_full/models/ckpt_final.pth\", map_location=\"cpu\")['models']"
   ]
  },
  {
   "cell_type": "code",
   "execution_count": 5,
   "id": "moral-respect",
   "metadata": {},
   "outputs": [
    {
     "data": {
      "text/plain": [
       "dict_keys(['preprocessing', 'encoder', 'decoder', 'predictor', 'forget_net', 'discriminator'])"
      ]
     },
     "execution_count": 5,
     "metadata": {},
     "output_type": "execute_result"
    }
   ],
   "source": [
    "old.keys()"
   ]
  },
  {
   "cell_type": "code",
   "execution_count": 6,
   "id": "caroline-amplifier",
   "metadata": {},
   "outputs": [
    {
     "data": {
      "text/plain": [
       "dict_keys(['preprocessing', 'encoder', 'decoder', 'predictor', 'forget_net', 'discriminator'])"
      ]
     },
     "execution_count": 6,
     "metadata": {},
     "output_type": "execute_result"
    }
   ],
   "source": [
    "new.keys()"
   ]
  },
  {
   "cell_type": "code",
   "execution_count": 35,
   "id": "stunning-gnome",
   "metadata": {
    "scrolled": true
   },
   "outputs": [
    {
     "name": "stdout",
     "output_type": "stream",
     "text": [
      "Adam (\n",
      "Parameter Group 0\n",
      "    amsgrad: True\n",
      "    betas: (0.9, 0.999)\n",
      "    eps: 1e-08\n",
      "    initial_lr: 0.0015\n",
      "    lr: 0.00021359361201956202\n",
      "    weight_decay: 0.0001\n",
      ")\n",
      "Adam (\n",
      "Parameter Group 0\n",
      "    amsgrad: True\n",
      "    betas: (0.9, 0.999)\n",
      "    eps: 1e-08\n",
      "    initial_lr: 0.0015\n",
      "    lr: 0.00021359361201956202\n",
      "    weight_decay: 0.0001\n",
      ")\n",
      "Adam (\n",
      "Parameter Group 0\n",
      "    amsgrad: True\n",
      "    betas: (0.9, 0.999)\n",
      "    eps: 1e-08\n",
      "    initial_lr: 0.0015\n",
      "    lr: 0.00021359361201956202\n",
      "    weight_decay: 0.0001\n",
      ")\n",
      "Adam (\n",
      "Parameter Group 0\n",
      "    amsgrad: True\n",
      "    betas: (0.9, 0.999)\n",
      "    eps: 1e-08\n",
      "    initial_lr: 0.0015\n",
      "    lr: 0.00021359361201956202\n",
      "    weight_decay: 0.0001\n",
      ")\n",
      "Adam (\n",
      "Parameter Group 0\n",
      "    amsgrad: True\n",
      "    betas: (0.9, 0.999)\n",
      "    eps: 1e-08\n",
      "    initial_lr: 0.0015\n",
      "    lr: 0.00021359361201956202\n",
      "    weight_decay: 0.0001\n",
      ")\n",
      "Adam (\n",
      "Parameter Group 0\n",
      "    amsgrad: True\n",
      "    betas: (0.9, 0.999)\n",
      "    eps: 1e-08\n",
      "    initial_lr: 0.0015\n",
      "    lr: 0.00021359361201956202\n",
      "    weight_decay: 0.0001\n",
      ")\n"
     ]
    }
   ],
   "source": [
    "for i in old:\n",
    "    print(old[i][-1])"
   ]
  },
  {
   "cell_type": "code",
   "execution_count": 31,
   "id": "industrial-pressure",
   "metadata": {},
   "outputs": [],
   "source": [
    "o = torch.load(\"enus_40/dummy/models/ckpt_1_2.pth\", map_location=\"cpu\")['models']"
   ]
  },
  {
   "cell_type": "code",
   "execution_count": 32,
   "id": "organized-marriage",
   "metadata": {
    "scrolled": true
   },
   "outputs": [
    {
     "name": "stdout",
     "output_type": "stream",
     "text": [
      "Adam (\n",
      "Parameter Group 0\n",
      "    amsgrad: True\n",
      "    betas: (0.9, 0.999)\n",
      "    eps: 1e-08\n",
      "    lr: 0.0015\n",
      "    weight_decay: 0.0001\n",
      ")\n",
      "Adam (\n",
      "Parameter Group 0\n",
      "    amsgrad: True\n",
      "    betas: (0.9, 0.999)\n",
      "    eps: 1e-08\n",
      "    lr: 0.0015\n",
      "    weight_decay: 0.0001\n",
      ")\n",
      "Adam (\n",
      "Parameter Group 0\n",
      "    amsgrad: True\n",
      "    betas: (0.9, 0.999)\n",
      "    eps: 1e-08\n",
      "    lr: 0.0015\n",
      "    weight_decay: 0.0001\n",
      ")\n",
      "Adam (\n",
      "Parameter Group 0\n",
      "    amsgrad: True\n",
      "    betas: (0.9, 0.999)\n",
      "    eps: 1e-08\n",
      "    lr: 0.0015\n",
      "    weight_decay: 0.0001\n",
      ")\n"
     ]
    }
   ],
   "source": [
    "for i in o:\n",
    "    print(o\n",
    "          [i][-1])"
   ]
  },
  {
   "cell_type": "code",
   "execution_count": null,
   "id": "similar-omaha",
   "metadata": {},
   "outputs": [],
   "source": []
  },
  {
   "cell_type": "code",
   "execution_count": null,
   "id": "usual-beginning",
   "metadata": {},
   "outputs": [],
   "source": []
  },
  {
   "cell_type": "code",
   "execution_count": 21,
   "id": "industrial-wagner",
   "metadata": {},
   "outputs": [],
   "source": [
    "dummy = []"
   ]
  },
  {
   "cell_type": "code",
   "execution_count": 22,
   "id": "failing-gardening",
   "metadata": {},
   "outputs": [],
   "source": [
    "dummy = []\n",
    "\n",
    "for i in old:\n",
    "    for k in old[i][0].state_dict():\n",
    "        dummy.append([k, old[i][0].state_dict()[k]])\n",
    "#     h+=1"
   ]
  },
  {
   "cell_type": "code",
   "execution_count": 23,
   "id": "lined-dollar",
   "metadata": {},
   "outputs": [
    {
     "data": {
      "text/plain": [
       "473"
      ]
     },
     "execution_count": 23,
     "metadata": {},
     "output_type": "execute_result"
    }
   ],
   "source": [
    "len(dummy)"
   ]
  },
  {
   "cell_type": "code",
   "execution_count": 24,
   "id": "extra-leadership",
   "metadata": {
    "scrolled": true
   },
   "outputs": [
    {
     "data": {
      "text/plain": [
       "['layers.0.layers.0.weight',\n",
       " tensor([[[-1.0900e-03,  3.4885e-02, -3.7682e-02,  ..., -2.2101e-03,\n",
       "           -3.4556e-02, -3.2794e-03],\n",
       "          [ 3.6652e-02, -2.5544e-02, -1.9904e-02,  ...,  9.6409e-02,\n",
       "            9.1336e-03,  7.8325e-02],\n",
       "          [ 3.3616e-03, -3.0546e-03, -8.7330e-02,  ...,  5.3049e-02,\n",
       "           -4.5513e-03, -3.7987e-02],\n",
       "          ...,\n",
       "          [ 1.3612e-01,  7.1273e-02,  7.5406e-03,  ...,  7.6190e-02,\n",
       "            4.3434e-02,  4.9343e-03],\n",
       "          [ 2.1300e-01,  9.6132e-02,  2.5582e-02,  ...,  3.5107e-02,\n",
       "            1.3063e-01,  7.6907e-02],\n",
       "          [ 1.5892e-01,  1.7977e-01, -4.8425e-02,  ...,  4.7514e-03,\n",
       "            1.6026e-01, -1.5777e-02]],\n",
       " \n",
       "         [[ 1.2330e-02,  4.4023e-03, -4.9743e-03,  ...,  4.5590e-02,\n",
       "            4.7330e-02,  4.6341e-02],\n",
       "          [ 8.3076e-03,  3.2030e-02,  2.3947e-02,  ...,  6.2337e-03,\n",
       "            2.7069e-02,  7.7028e-02],\n",
       "          [ 4.9976e-02,  1.2552e-01,  2.3043e-01,  ..., -2.4844e-02,\n",
       "           -5.4424e-02, -5.2424e-02],\n",
       "          ...,\n",
       "          [-6.8888e-02, -2.0864e-02, -8.8032e-04,  ...,  3.2177e-03,\n",
       "            1.9218e-02,  8.5740e-03],\n",
       "          [ 9.4925e-03,  2.8787e-03, -9.8201e-03,  ...,  2.6391e-02,\n",
       "            2.6995e-02,  6.5404e-02],\n",
       "          [-2.7057e-02,  3.2590e-02, -7.5377e-02,  ..., -1.0492e-01,\n",
       "            6.3673e-03, -1.2091e-02]],\n",
       " \n",
       "         [[ 6.5170e-02, -1.5976e-03,  5.3891e-02,  ...,  1.0976e-04,\n",
       "            7.8359e-02, -6.7624e-03],\n",
       "          [ 4.4789e-02,  1.5086e-03,  3.0961e-02,  ...,  1.5630e-02,\n",
       "           -8.1666e-02, -3.6853e-03],\n",
       "          [-3.3600e-02, -3.2947e-02,  3.0100e-02,  ...,  1.9364e-02,\n",
       "            5.8745e-02,  1.1311e-02],\n",
       "          ...,\n",
       "          [ 4.3999e-02, -1.6080e-02, -2.5220e-02,  ...,  1.1077e-01,\n",
       "           -3.1263e-02,  9.8256e-02],\n",
       "          [ 7.9410e-04, -5.0110e-02,  1.1030e-02,  ...,  8.9107e-02,\n",
       "            5.4126e-02, -6.6475e-02],\n",
       "          [-1.1255e-01, -7.2125e-02, -1.4450e-03,  ...,  1.0515e-01,\n",
       "           -7.7232e-02, -1.8836e-02]],\n",
       " \n",
       "         ...,\n",
       " \n",
       "         [[-3.5450e-02,  3.3939e-02,  4.4774e-02,  ...,  4.0702e-02,\n",
       "           -5.3598e-02, -3.8166e-02],\n",
       "          [-1.0690e-02,  6.7298e-02,  9.6142e-03,  ...,  6.0017e-02,\n",
       "            1.2001e-01,  4.7354e-02],\n",
       "          [ 2.6249e-01,  1.6367e-01,  6.1654e-03,  ...,  2.3333e-02,\n",
       "            1.0364e-01,  2.3794e-01],\n",
       "          ...,\n",
       "          [ 8.4725e-02,  5.6705e-02,  6.9802e-02,  ...,  9.4387e-02,\n",
       "           -2.0894e-02,  7.0314e-03],\n",
       "          [ 7.2962e-02,  7.7595e-02,  5.8201e-02,  ...,  3.6711e-02,\n",
       "            3.4285e-02,  1.0737e-01],\n",
       "          [ 7.3119e-02,  1.1456e-01,  4.7889e-02,  ...,  9.5956e-02,\n",
       "            6.1158e-02,  1.0321e-01]],\n",
       " \n",
       "         [[-4.9152e-02, -2.6700e-02,  9.7400e-03,  ..., -1.2542e-02,\n",
       "            2.1412e-02, -6.5482e-03],\n",
       "          [-5.2801e-02, -1.4845e-01, -4.2908e-02,  ...,  1.2634e-01,\n",
       "            8.3641e-02,  1.8499e-01],\n",
       "          [ 7.5741e-02,  5.3937e-02, -7.6692e-03,  ...,  6.4991e-02,\n",
       "            1.0206e-01,  6.1484e-02],\n",
       "          ...,\n",
       "          [-1.1826e-01, -1.4137e-01, -8.6576e-02,  ..., -8.6355e-02,\n",
       "           -2.4314e-02,  3.0487e-02],\n",
       "          [-1.9218e-01, -1.7162e-01, -6.9024e-02,  ..., -1.3204e-01,\n",
       "            4.3013e-02,  2.9034e-03],\n",
       "          [-2.3405e-01, -2.1599e-01, -2.0052e-01,  ...,  2.2220e-02,\n",
       "            2.4992e-02,  5.2010e-02]],\n",
       " \n",
       "         [[ 3.0052e-02, -5.2793e-02, -2.7120e-02,  ...,  4.6717e-02,\n",
       "            1.1910e-02,  4.9472e-02],\n",
       "          [ 6.6627e-02,  5.6765e-02,  5.0414e-03,  ...,  2.1074e-02,\n",
       "           -6.8387e-05,  1.6240e-02],\n",
       "          [-2.5970e-01, -1.8975e-01, -3.6236e-02,  ...,  1.0618e-01,\n",
       "            3.9451e-02,  2.9524e-02],\n",
       "          ...,\n",
       "          [ 3.8222e-02, -2.2436e-02, -1.2335e-01,  ..., -1.0309e-01,\n",
       "           -1.2869e-01, -2.7368e-03],\n",
       "          [ 9.2495e-02, -2.5889e-03, -8.3447e-02,  ..., -1.3098e-01,\n",
       "           -1.2351e-01,  2.8472e-02],\n",
       "          [ 1.0148e-01,  1.3145e-01, -9.5790e-02,  ..., -5.7721e-02,\n",
       "           -1.2207e-01, -4.1144e-02]]])]"
      ]
     },
     "execution_count": 24,
     "metadata": {},
     "output_type": "execute_result"
    }
   ],
   "source": [
    "dummy[0]"
   ]
  },
  {
   "cell_type": "code",
   "execution_count": 25,
   "id": "bottom-investing",
   "metadata": {
    "scrolled": true
   },
   "outputs": [
    {
     "data": {
      "text/plain": [
       "tensor([[[-1.0900e-03,  3.4885e-02, -3.7682e-02,  ..., -2.2101e-03,\n",
       "          -3.4556e-02, -3.2794e-03],\n",
       "         [ 3.6652e-02, -2.5544e-02, -1.9904e-02,  ...,  9.6409e-02,\n",
       "           9.1336e-03,  7.8325e-02],\n",
       "         [ 3.3616e-03, -3.0546e-03, -8.7330e-02,  ...,  5.3049e-02,\n",
       "          -4.5513e-03, -3.7987e-02],\n",
       "         ...,\n",
       "         [ 1.3612e-01,  7.1273e-02,  7.5406e-03,  ...,  7.6190e-02,\n",
       "           4.3434e-02,  4.9343e-03],\n",
       "         [ 2.1300e-01,  9.6132e-02,  2.5582e-02,  ...,  3.5107e-02,\n",
       "           1.3063e-01,  7.6907e-02],\n",
       "         [ 1.5892e-01,  1.7977e-01, -4.8425e-02,  ...,  4.7514e-03,\n",
       "           1.6026e-01, -1.5777e-02]],\n",
       "\n",
       "        [[ 1.2330e-02,  4.4023e-03, -4.9743e-03,  ...,  4.5590e-02,\n",
       "           4.7330e-02,  4.6341e-02],\n",
       "         [ 8.3076e-03,  3.2030e-02,  2.3947e-02,  ...,  6.2337e-03,\n",
       "           2.7069e-02,  7.7028e-02],\n",
       "         [ 4.9976e-02,  1.2552e-01,  2.3043e-01,  ..., -2.4844e-02,\n",
       "          -5.4424e-02, -5.2424e-02],\n",
       "         ...,\n",
       "         [-6.8888e-02, -2.0864e-02, -8.8032e-04,  ...,  3.2177e-03,\n",
       "           1.9218e-02,  8.5740e-03],\n",
       "         [ 9.4925e-03,  2.8787e-03, -9.8201e-03,  ...,  2.6391e-02,\n",
       "           2.6995e-02,  6.5404e-02],\n",
       "         [-2.7057e-02,  3.2590e-02, -7.5377e-02,  ..., -1.0492e-01,\n",
       "           6.3673e-03, -1.2091e-02]],\n",
       "\n",
       "        [[ 6.5170e-02, -1.5976e-03,  5.3891e-02,  ...,  1.0976e-04,\n",
       "           7.8359e-02, -6.7624e-03],\n",
       "         [ 4.4789e-02,  1.5086e-03,  3.0961e-02,  ...,  1.5630e-02,\n",
       "          -8.1666e-02, -3.6853e-03],\n",
       "         [-3.3600e-02, -3.2947e-02,  3.0100e-02,  ...,  1.9364e-02,\n",
       "           5.8745e-02,  1.1311e-02],\n",
       "         ...,\n",
       "         [ 4.3999e-02, -1.6080e-02, -2.5220e-02,  ...,  1.1077e-01,\n",
       "          -3.1263e-02,  9.8256e-02],\n",
       "         [ 7.9410e-04, -5.0110e-02,  1.1030e-02,  ...,  8.9107e-02,\n",
       "           5.4126e-02, -6.6475e-02],\n",
       "         [-1.1255e-01, -7.2125e-02, -1.4450e-03,  ...,  1.0515e-01,\n",
       "          -7.7232e-02, -1.8836e-02]],\n",
       "\n",
       "        ...,\n",
       "\n",
       "        [[-3.5450e-02,  3.3939e-02,  4.4774e-02,  ...,  4.0702e-02,\n",
       "          -5.3598e-02, -3.8166e-02],\n",
       "         [-1.0690e-02,  6.7298e-02,  9.6142e-03,  ...,  6.0017e-02,\n",
       "           1.2001e-01,  4.7354e-02],\n",
       "         [ 2.6249e-01,  1.6367e-01,  6.1654e-03,  ...,  2.3333e-02,\n",
       "           1.0364e-01,  2.3794e-01],\n",
       "         ...,\n",
       "         [ 8.4725e-02,  5.6705e-02,  6.9802e-02,  ...,  9.4387e-02,\n",
       "          -2.0894e-02,  7.0314e-03],\n",
       "         [ 7.2962e-02,  7.7595e-02,  5.8201e-02,  ...,  3.6711e-02,\n",
       "           3.4285e-02,  1.0737e-01],\n",
       "         [ 7.3119e-02,  1.1456e-01,  4.7889e-02,  ...,  9.5956e-02,\n",
       "           6.1158e-02,  1.0321e-01]],\n",
       "\n",
       "        [[-4.9152e-02, -2.6700e-02,  9.7400e-03,  ..., -1.2542e-02,\n",
       "           2.1412e-02, -6.5482e-03],\n",
       "         [-5.2801e-02, -1.4845e-01, -4.2908e-02,  ...,  1.2634e-01,\n",
       "           8.3641e-02,  1.8499e-01],\n",
       "         [ 7.5741e-02,  5.3937e-02, -7.6692e-03,  ...,  6.4991e-02,\n",
       "           1.0206e-01,  6.1484e-02],\n",
       "         ...,\n",
       "         [-1.1826e-01, -1.4137e-01, -8.6576e-02,  ..., -8.6355e-02,\n",
       "          -2.4314e-02,  3.0487e-02],\n",
       "         [-1.9218e-01, -1.7162e-01, -6.9024e-02,  ..., -1.3204e-01,\n",
       "           4.3013e-02,  2.9034e-03],\n",
       "         [-2.3405e-01, -2.1599e-01, -2.0052e-01,  ...,  2.2220e-02,\n",
       "           2.4992e-02,  5.2010e-02]],\n",
       "\n",
       "        [[ 3.0052e-02, -5.2793e-02, -2.7120e-02,  ...,  4.6717e-02,\n",
       "           1.1910e-02,  4.9472e-02],\n",
       "         [ 6.6627e-02,  5.6765e-02,  5.0414e-03,  ...,  2.1074e-02,\n",
       "          -6.8387e-05,  1.6240e-02],\n",
       "         [-2.5970e-01, -1.8975e-01, -3.6236e-02,  ...,  1.0618e-01,\n",
       "           3.9451e-02,  2.9524e-02],\n",
       "         ...,\n",
       "         [ 3.8222e-02, -2.2436e-02, -1.2335e-01,  ..., -1.0309e-01,\n",
       "          -1.2869e-01, -2.7368e-03],\n",
       "         [ 9.2495e-02, -2.5889e-03, -8.3447e-02,  ..., -1.3098e-01,\n",
       "          -1.2351e-01,  2.8472e-02],\n",
       "         [ 1.0148e-01,  1.3145e-01, -9.5790e-02,  ..., -5.7721e-02,\n",
       "          -1.2207e-01, -4.1144e-02]]])"
      ]
     },
     "execution_count": 25,
     "metadata": {},
     "output_type": "execute_result"
    }
   ],
   "source": [
    "new['preprocessing'][0].state_dict()['layers.0.layers.0.conv_pre.weight']"
   ]
  },
  {
   "cell_type": "code",
   "execution_count": 26,
   "id": "fancy-windows",
   "metadata": {},
   "outputs": [
    {
     "name": "stdout",
     "output_type": "stream",
     "text": [
      "preprocessing\n",
      "\n",
      "encoder\n",
      "\n",
      "decoder\n",
      "\n",
      "predictor\n",
      "\n",
      "forget_net\n",
      "\n",
      "discriminator\n",
      "\n"
     ]
    }
   ],
   "source": [
    "h = 0\n",
    "for i in new:\n",
    "    print(i)\n",
    "    print()\n",
    "    for k in new[i][0].state_dict():\n",
    "#         print(k)\n",
    "#         break\n",
    "        if new[i][0].state_dict()[k].shape == dummy[h][1].shape: \n",
    "            new[i][0].state_dict()[k].copy_(dummy[h][1])\n",
    "#                 print(dummy[h][0],k)\n",
    "        else: print('passs')\n",
    "        h+=1\n",
    "#     break"
   ]
  },
  {
   "cell_type": "code",
   "execution_count": 27,
   "id": "ranging-intelligence",
   "metadata": {},
   "outputs": [],
   "source": [
    "save = torch.load(\"enus_40/asr_libri_M_F_full//models/ckpt_final.pth\", map_location=\"cpu\")"
   ]
  },
  {
   "cell_type": "code",
   "execution_count": 28,
   "id": "secure-collar",
   "metadata": {},
   "outputs": [
    {
     "data": {
      "text/plain": [
       "dict_keys(['models', 'start_epoch', 'best_wer', 'best_cer', 'poor_cer_list', 'start_iter', 'accent_dict', 'version', 'train.log', 'audio_conf', 'labels'])"
      ]
     },
     "execution_count": 28,
     "metadata": {},
     "output_type": "execute_result"
    }
   ],
   "source": [
    "save.keys()"
   ]
  },
  {
   "cell_type": "code",
   "execution_count": 29,
   "id": "technical-archive",
   "metadata": {
    "scrolled": true
   },
   "outputs": [],
   "source": [
    "for i in save['models']:\n",
    "    save['models'][i][0] = new[i][0]"
   ]
  },
  {
   "cell_type": "code",
   "execution_count": 30,
   "id": "usual-senate",
   "metadata": {},
   "outputs": [],
   "source": [
    "torch.save(save,'enus_40/hor/models/new.pth')"
   ]
  },
  {
   "cell_type": "code",
   "execution_count": 36,
   "id": "hidden-teach",
   "metadata": {},
   "outputs": [],
   "source": [
    "a = torch.load(\"enus_40/hor/models/new.pth\", map_location=\"cpu\")['models']"
   ]
  },
  {
   "cell_type": "code",
   "execution_count": 37,
   "id": "advisory-conservation",
   "metadata": {
    "scrolled": true
   },
   "outputs": [
    {
     "name": "stdout",
     "output_type": "stream",
     "text": [
      "Adam (\n",
      "Parameter Group 0\n",
      "    amsgrad: True\n",
      "    betas: (0.9, 0.999)\n",
      "    eps: 1e-08\n",
      "    initial_lr: 0.0015\n",
      "    lr: 0.00021359361201956202\n",
      "    weight_decay: 0.0001\n",
      ")\n",
      "Adam (\n",
      "Parameter Group 0\n",
      "    amsgrad: True\n",
      "    betas: (0.9, 0.999)\n",
      "    eps: 1e-08\n",
      "    initial_lr: 0.0015\n",
      "    lr: 0.00021359361201956202\n",
      "    weight_decay: 0.0001\n",
      ")\n",
      "Adam (\n",
      "Parameter Group 0\n",
      "    amsgrad: True\n",
      "    betas: (0.9, 0.999)\n",
      "    eps: 1e-08\n",
      "    initial_lr: 0.0015\n",
      "    lr: 0.00021359361201956202\n",
      "    weight_decay: 0.0001\n",
      ")\n",
      "Adam (\n",
      "Parameter Group 0\n",
      "    amsgrad: True\n",
      "    betas: (0.9, 0.999)\n",
      "    eps: 1e-08\n",
      "    initial_lr: 0.0015\n",
      "    lr: 0.00021359361201956202\n",
      "    weight_decay: 0.0001\n",
      ")\n",
      "Adam (\n",
      "Parameter Group 0\n",
      "    amsgrad: True\n",
      "    betas: (0.9, 0.999)\n",
      "    eps: 1e-08\n",
      "    initial_lr: 0.0015\n",
      "    lr: 0.00021359361201956202\n",
      "    weight_decay: 0.0001\n",
      ")\n",
      "Adam (\n",
      "Parameter Group 0\n",
      "    amsgrad: True\n",
      "    betas: (0.9, 0.999)\n",
      "    eps: 1e-08\n",
      "    initial_lr: 0.0015\n",
      "    lr: 0.00021359361201956202\n",
      "    weight_decay: 0.0001\n",
      ")\n"
     ]
    }
   ],
   "source": [
    "for i in a:\n",
    "    print(a[i][-1])"
   ]
  },
  {
   "cell_type": "code",
   "execution_count": null,
   "id": "peaceful-donna",
   "metadata": {
    "scrolled": true
   },
   "outputs": [],
   "source": [
    "a['preprocessing'][0].state_dict()['layers.0.layers.0.conv_pre.weight']"
   ]
  },
  {
   "cell_type": "code",
   "execution_count": null,
   "id": "included-assault",
   "metadata": {},
   "outputs": [],
   "source": []
  },
  {
   "cell_type": "code",
   "execution_count": null,
   "id": "acute-interim",
   "metadata": {},
   "outputs": [],
   "source": [
    "m = []\n",
    "for i in dummy:\n",
    "    m.append(i[0])\n",
    "#     print(i[0])"
   ]
  },
  {
   "cell_type": "code",
   "execution_count": null,
   "id": "enclosed-evans",
   "metadata": {},
   "outputs": [],
   "source": [
    "len(m)"
   ]
  },
  {
   "cell_type": "code",
   "execution_count": null,
   "id": "available-exploration",
   "metadata": {},
   "outputs": [],
   "source": [
    "set(m)"
   ]
  },
  {
   "cell_type": "code",
   "execution_count": 46,
   "id": "transsexual-stuff",
   "metadata": {},
   "outputs": [
    {
     "name": "stdout",
     "output_type": "stream",
     "text": [
      "4 d\n",
      "9 d\n",
      "14 d\n",
      "19 d\n",
      "24 d\n",
      "29 d\n",
      "34 d\n",
      "39 d\n",
      "44 d\n",
      "49 d\n",
      "54 d\n",
      "59 d\n",
      "64 d\n",
      "69 d\n",
      "74 d\n",
      "79 d\n",
      "84 d\n",
      "89 d\n",
      "94 d\n",
      "99 d\n"
     ]
    }
   ],
   "source": [
    "n = 5\n",
    "for x in range(100):\n",
    "    if x % n+1 == n:\n",
    "        print(x,'d')"
   ]
  },
  {
   "cell_type": "code",
   "execution_count": null,
   "id": "unable-cartridge",
   "metadata": {},
   "outputs": [],
   "source": []
  },
  {
   "cell_type": "code",
   "execution_count": null,
   "id": "stable-chamber",
   "metadata": {},
   "outputs": [],
   "source": []
  },
  {
   "cell_type": "code",
   "execution_count": null,
   "id": "forward-jefferson",
   "metadata": {},
   "outputs": [],
   "source": []
  },
  {
   "cell_type": "code",
   "execution_count": null,
   "id": "absent-spectacular",
   "metadata": {},
   "outputs": [],
   "source": [
    "with open(\"/media/data_dump/hemant/hemant/v2_asr/Robust_ASR/train_m_f.csv\", \"r\") as f:\n",
    "    mf = f.readlines()"
   ]
  },
  {
   "cell_type": "code",
   "execution_count": null,
   "id": "danish-indication",
   "metadata": {},
   "outputs": [],
   "source": [
    "with open(\"/media/data_dump/hemant/hemant/v2_asr/Robust_ASR/new_out.csv\", \"r\") as f:\n",
    "    a = f.readlines()"
   ]
  },
  {
   "cell_type": "code",
   "execution_count": null,
   "id": "essential-fiction",
   "metadata": {},
   "outputs": [],
   "source": [
    "with open(\"/media/data_dump/hemant/hemant/v2_asr/Robust_ASR/out.csv\", \"r\") as f:\n",
    "    b = f.readlines()"
   ]
  },
  {
   "cell_type": "code",
   "execution_count": null,
   "id": "federal-extent",
   "metadata": {},
   "outputs": [],
   "source": []
  },
  {
   "cell_type": "code",
   "execution_count": null,
   "id": "relative-insurance",
   "metadata": {},
   "outputs": [],
   "source": [
    "m = ''\n",
    "for i in range(len(a)):\n",
    "    print(b[int(a[i].split('_')[0])], int(a[i].split('_')[0]))\n",
    "    m+=b[int(a[i].split('_')[0])]"
   ]
  },
  {
   "cell_type": "code",
   "execution_count": null,
   "id": "corresponding-isolation",
   "metadata": {},
   "outputs": [],
   "source": [
    "set([1,2,3,4]) - set([2,3,4,5])"
   ]
  },
  {
   "cell_type": "code",
   "execution_count": null,
   "id": "banned-wrapping",
   "metadata": {},
   "outputs": [],
   "source": [
    "de = []\n",
    "for i in range(len(a)):\n",
    "    de.append(int(a[i].split('_')[0]) )"
   ]
  },
  {
   "cell_type": "code",
   "execution_count": null,
   "id": "informative-identity",
   "metadata": {},
   "outputs": [],
   "source": [
    "from tqdm.auto import tqdm"
   ]
  },
  {
   "cell_type": "code",
   "execution_count": null,
   "id": "spanish-chambers",
   "metadata": {},
   "outputs": [],
   "source": [
    "m = ''\n",
    "for i in tqdm(mf):\n",
    "    if i not in a:\n",
    "        print(i)\n",
    "#         m+=b[i]"
   ]
  },
  {
   "cell_type": "code",
   "execution_count": null,
   "id": "supposed-bones",
   "metadata": {},
   "outputs": [],
   "source": []
  },
  {
   "cell_type": "code",
   "execution_count": null,
   "id": "invisible-factor",
   "metadata": {},
   "outputs": [],
   "source": [
    "with open(\"/media/data_dump/hemant/hemant/v2_asr/Robust_ASR/new_out.csv\", \"w\") as f:\n",
    "    f.write(m\n",
    "           )"
   ]
  },
  {
   "cell_type": "code",
   "execution_count": null,
   "id": "exceptional-oklahoma",
   "metadata": {},
   "outputs": [],
   "source": [
    "train_other_500-47-122796-0132.wav"
   ]
  }
 ],
 "metadata": {
  "kernelspec": {
   "display_name": "Python 3",
   "language": "python",
   "name": "python3"
  },
  "language_info": {
   "codemirror_mode": {
    "name": "ipython",
    "version": 3
   },
   "file_extension": ".py",
   "mimetype": "text/x-python",
   "name": "python",
   "nbconvert_exporter": "python",
   "pygments_lexer": "ipython3",
   "version": "3.8.8"
  }
 },
 "nbformat": 4,
 "nbformat_minor": 5
}
